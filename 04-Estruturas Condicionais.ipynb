{
 "cells": [
  {
   "cell_type": "markdown",
   "metadata": {},
   "source": [
    "# Condições"
   ]
  },
  {
   "cell_type": "markdown",
   "metadata": {},
   "source": [
    "Essa é uma das estruturas mais importantes de qualquer linguagem de programação. O princípio é o mesmo, valores são comparados com outros e a partir do resultado decisões são tomadas."
   ]
  },
  {
   "cell_type": "code",
   "execution_count": 1,
   "metadata": {},
   "outputs": [
    {
     "name": "stdout",
     "output_type": "stream",
     "text": [
      "Aluno aprovado\n"
     ]
    }
   ],
   "source": [
    "media = 5\n",
    "\n",
    "if media >= 5: # Fique atento ao simbolo de dois pontos, ele é usado para if, else, elif, for, funções, try\n",
    "    print('Aluno aprovado') # Em Python delimitamos o bloco a ser executado com identação, é muito importante"
   ]
  },
  {
   "cell_type": "code",
   "execution_count": 2,
   "metadata": {},
   "outputs": [
    {
     "name": "stdout",
     "output_type": "stream",
     "text": [
      "Aluno aprovado\n"
     ]
    }
   ],
   "source": [
    "# Podem ser usados parenteses sem problemas, há situações que eles são imprescindíveis\n",
    "if (media >= 5): \n",
    "    print('Aluno aprovado')"
   ]
  },
  {
   "cell_type": "code",
   "execution_count": 3,
   "metadata": {},
   "outputs": [
    {
     "name": "stdout",
     "output_type": "stream",
     "text": [
      "Aluno aprovado\n"
     ]
    }
   ],
   "source": [
    "media = 6\n",
    "\n",
    "if (media >= 5):\n",
    "    print('Aluno aprovado')\n",
    "else: # Veja que o else é a condição contrária do if\n",
    "    print('Aluno reprovado')"
   ]
  },
  {
   "cell_type": "code",
   "execution_count": 5,
   "metadata": {},
   "outputs": [
    {
     "name": "stdout",
     "output_type": "stream",
     "text": [
      "Parabéns, você foi aprovado!\n"
     ]
    }
   ],
   "source": [
    "# Usando aninhamento\n",
    "media = 8\n",
    "if media >= 5:\n",
    "    if media >= 7:\n",
    "        print('Parabéns, você foi aprovado!')\n",
    "    else:\n",
    "        print('Em recuperação')\n",
    "else:\n",
    "    print('Reprovado')"
   ]
  },
  {
   "cell_type": "code",
   "execution_count": 11,
   "metadata": {},
   "outputs": [
    {
     "name": "stdout",
     "output_type": "stream",
     "text": [
      "Em recuperação\n"
     ]
    }
   ],
   "source": [
    "# Há uma segunda forma de fazer, bem mais enxuta, usando o elif(o mesmo que else if)\n",
    "if media <= 5:\n",
    "    print('Reprovado')\n",
    "elif media >= 7:\n",
    "    print('Parabéns, você foi aprovado!')\n",
    "else:\n",
    "    print('Em recuperação')"
   ]
  },
  {
   "cell_type": "code",
   "execution_count": 14,
   "metadata": {},
   "outputs": [
    {
     "name": "stdout",
     "output_type": "stream",
     "text": [
      "Aprovado!\n"
     ]
    }
   ],
   "source": [
    "# Simplificado\n",
    "print('Aprovado!'if media >= 6 else 'Reprovado')"
   ]
  },
  {
   "cell_type": "code",
   "execution_count": 18,
   "metadata": {},
   "outputs": [
    {
     "name": "stdout",
     "output_type": "stream",
     "text": [
      "1 2\n"
     ]
    }
   ],
   "source": [
    "# Podemos usar todos os operadores já vistos\n",
    "x = 1\n",
    "y = 2\n",
    "if x == 1 and y == 2:\n",
    "    print(x, y)\n",
    "elif x > 1 or y == 2:\n",
    "    print(y, x)\n",
    "else:\n",
    "    print('Fim')"
   ]
  },
  {
   "cell_type": "markdown",
   "metadata": {},
   "source": [
    "## Juntando as coisas"
   ]
  },
  {
   "cell_type": "code",
   "execution_count": 10,
   "metadata": {},
   "outputs": [
    {
     "name": "stdout",
     "output_type": "stream",
     "text": [
      "Digite a nota 1: 7\n",
      "Digite a nota 2: 5.7\n",
      "Média:  6.35\n",
      "Em recuperação\n"
     ]
    }
   ],
   "source": [
    "nota1 = float(input('Digite a nota 1: '))\n",
    "nota2 = float(input('Digite a nota 2: '))\n",
    "\n",
    "media = (nota1 + nota2) / 2\n",
    "\n",
    "print('Média: ',media)\n",
    "\n",
    "if media <= 5:\n",
    "    print('Reprovado')\n",
    "elif media >= 7:\n",
    "    print('Parabéns, você foi aprovado!')\n",
    "else:\n",
    "    print('Em recuperação')"
   ]
  },
  {
   "cell_type": "markdown",
   "metadata": {},
   "source": [
    "# Fim"
   ]
  }
 ],
 "metadata": {
  "kernelspec": {
   "display_name": "Python 3",
   "language": "python",
   "name": "python3"
  },
  "language_info": {
   "codemirror_mode": {
    "name": "ipython",
    "version": 3
   },
   "file_extension": ".py",
   "mimetype": "text/x-python",
   "name": "python",
   "nbconvert_exporter": "python",
   "pygments_lexer": "ipython3",
   "version": "3.7.6"
  }
 },
 "nbformat": 4,
 "nbformat_minor": 4
}
