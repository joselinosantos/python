{
 "cells": [
  {
   "cell_type": "markdown",
   "metadata": {},
   "source": [
    "# List comprehension"
   ]
  },
  {
   "cell_type": "markdown",
   "metadata": {},
   "source": [
    "Muito usadas por Pythonistas. É basicamente uma lista que pode conter diversas operações aninhadas."
   ]
  },
  {
   "cell_type": "code",
   "execution_count": 5,
   "metadata": {},
   "outputs": [],
   "source": [
    "# Retornar cada caracter em uma sequência de caracteres\n",
    "lista = [x for x in 'Python']"
   ]
  },
  {
   "cell_type": "code",
   "execution_count": 6,
   "metadata": {},
   "outputs": [
    {
     "data": {
      "text/plain": [
       "['P', 'y', 't', 'h', 'o', 'n']"
      ]
     },
     "execution_count": 6,
     "metadata": {},
     "output_type": "execute_result"
    }
   ],
   "source": [
    "lista"
   ]
  },
  {
   "cell_type": "code",
   "execution_count": 7,
   "metadata": {},
   "outputs": [
    {
     "name": "stdout",
     "output_type": "stream",
     "text": [
      "['P', 'y', 't', 'h', 'o', 'n']\n"
     ]
    }
   ],
   "source": [
    "# Retorna os valores da lista\n",
    "print([x for x in lista])"
   ]
  },
  {
   "cell_type": "code",
   "execution_count": 8,
   "metadata": {},
   "outputs": [
    {
     "name": "stdout",
     "output_type": "stream",
     "text": [
      "[1, 2, 3, 4]\n"
     ]
    }
   ],
   "source": [
    "# Retorna os valores da lista passada dentro da list\n",
    "print([x for x in [1,2,3,4]])"
   ]
  },
  {
   "cell_type": "code",
   "execution_count": 10,
   "metadata": {},
   "outputs": [
    {
     "name": "stdout",
     "output_type": "stream",
     "text": [
      "[2, 3, 4, 5]\n"
     ]
    }
   ],
   "source": [
    "# Operação em cada valor da lista - Soma 1\n",
    "lista = [1,2,3,4]\n",
    "print([i+1 for i in lista])"
   ]
  },
  {
   "cell_type": "code",
   "execution_count": 10,
   "metadata": {},
   "outputs": [
    {
     "name": "stdout",
     "output_type": "stream",
     "text": [
      "[1, 4, 9, 16]\n"
     ]
    }
   ],
   "source": [
    "print([i**2 for i in lista])"
   ]
  },
  {
   "cell_type": "code",
   "execution_count": 12,
   "metadata": {},
   "outputs": [
    {
     "data": {
      "text/plain": [
       "[0, 1, 8, 27, 64]"
      ]
     },
     "execution_count": 12,
     "metadata": {},
     "output_type": "execute_result"
    }
   ],
   "source": [
    "# Range\n",
    "lst = [x**3 for x in range(0, 5)]\n",
    "lst"
   ]
  },
  {
   "cell_type": "code",
   "execution_count": 11,
   "metadata": {},
   "outputs": [
    {
     "data": {
      "text/plain": [
       "[0, 2, 4, 6, 8, 10]"
      ]
     },
     "execution_count": 11,
     "metadata": {},
     "output_type": "execute_result"
    }
   ],
   "source": [
    "# Condições - Verificar os números pares em um range de números\n",
    "lst = [x for x in range(11) if x % 2 == 0]\n",
    "lst"
   ]
  },
  {
   "cell_type": "code",
   "execution_count": 12,
   "metadata": {},
   "outputs": [
    {
     "data": {
      "text/plain": [
       "[32.0, 50.0, 68.18, 94.1]"
      ]
     },
     "execution_count": 12,
     "metadata": {},
     "output_type": "execute_result"
    }
   ],
   "source": [
    "# Expressão - Converter Celsius para Fahrenheit\n",
    "celsius = [0,10,20.1,34.5]\n",
    "fahrenheit = [ ((float(9)/5)*temp + 32) for temp in celsius ]\n",
    "fahrenheit"
   ]
  },
  {
   "cell_type": "code",
   "execution_count": 13,
   "metadata": {},
   "outputs": [
    {
     "data": {
      "text/plain": [
       "[0, 1, 16, 81, 256, 625, 1296, 2401, 4096, 6561, 10000]"
      ]
     },
     "execution_count": 13,
     "metadata": {},
     "output_type": "execute_result"
    }
   ],
   "source": [
    "# Operações aninhadas - Lista da lista\n",
    "lst = [ x**2 for x in [y**2 for y in range(11)]]\n",
    "lst"
   ]
  },
  {
   "cell_type": "code",
   "execution_count": 25,
   "metadata": {},
   "outputs": [
    {
     "data": {
      "text/plain": [
       "[[2, 1, 1.0], [3, 2, 2.0], [4, 3, 3.0], [5, 4, 4.0]]"
      ]
     },
     "execution_count": 25,
     "metadata": {},
     "output_type": "execute_result"
    }
   ],
   "source": [
    "# Aplica várias operações em cada item da lista e guarda em listas\n",
    "lst = [[x + 1, x * 1, x / 1] for x in lista]\n",
    "lst"
   ]
  },
  {
   "cell_type": "code",
   "execution_count": 14,
   "metadata": {},
   "outputs": [
    {
     "data": {
      "text/plain": [
       "[['E', 'e', 1],\n",
       " ['U', 'u', 1],\n",
       " [' ', ' ', 1],\n",
       " ['G', 'g', 1],\n",
       " ['O', 'o', 1],\n",
       " ['S', 's', 1],\n",
       " ['T', 't', 1],\n",
       " ['O', 'o', 1],\n",
       " [' ', ' ', 1],\n",
       " ['D', 'd', 1],\n",
       " ['E', 'e', 1],\n",
       " [' ', ' ', 1],\n",
       " ['P', 'p', 1],\n",
       " ['Y', 'y', 1],\n",
       " ['T', 't', 1],\n",
       " ['H', 'h', 1],\n",
       " ['O', 'o', 1],\n",
       " ['N', 'n', 1]]"
      ]
     },
     "execution_count": 14,
     "metadata": {},
     "output_type": "execute_result"
    }
   ],
   "source": [
    "# Aplica funções a cada caractere de uma string\n",
    "texto = 'Eu gosto de Python'\n",
    "resultado = [[w.upper(), w.lower(), len(w)] for w in texto]\n",
    "resultado"
   ]
  },
  {
   "cell_type": "code",
   "execution_count": 16,
   "metadata": {},
   "outputs": [
    {
     "data": {
      "text/plain": [
       "[[2, 2, 0.5],\n",
       " [3, 4, 1.0],\n",
       " [4, 6, 1.5],\n",
       " [7, 12, 3.0],\n",
       " [8, 14, 3.5],\n",
       " [9, 16, 4.0]]"
      ]
     },
     "execution_count": 16,
     "metadata": {},
     "output_type": "execute_result"
    }
   ],
   "source": [
    "# Com map e lambda\n",
    "lista = [1,2,3,6,7,8]\n",
    "resultado = map(lambda x: [x + 1, x * 2, x / 2], lista)\n",
    "list(resultado)"
   ]
  },
  {
   "cell_type": "markdown",
   "metadata": {},
   "source": [
    "## Trabalhando com dicionários"
   ]
  },
  {
   "cell_type": "code",
   "execution_count": 3,
   "metadata": {},
   "outputs": [
    {
     "data": {
      "text/plain": [
       "[('A', 1), ('B', 2), ('C', 3)]"
      ]
     },
     "execution_count": 3,
     "metadata": {},
     "output_type": "execute_result"
    }
   ],
   "source": [
    "dic = {'A':1, 'B':2, 'C':3}\n",
    "#Divide chave e valor em 2 variaveis\n",
    "[(k, v) for k, v in dic.items()]"
   ]
  },
  {
   "cell_type": "code",
   "execution_count": 4,
   "metadata": {},
   "outputs": [],
   "source": [
    "# Dicionário com 2 itens, cada um possui um dicionário com 3 itens\n",
    "dic = {'item1': {'a':7, 'b':2, 'c':4},  'item2': {'a':8, 'd':2, 'e':6}}"
   ]
  },
  {
   "cell_type": "code",
   "execution_count": 6,
   "metadata": {},
   "outputs": [
    {
     "name": "stdout",
     "output_type": "stream",
     "text": [
      "7\n",
      "2\n",
      "4\n"
     ]
    }
   ],
   "source": [
    "for i in dic['item1'].values(): print(i)"
   ]
  },
  {
   "cell_type": "code",
   "execution_count": 7,
   "metadata": {},
   "outputs": [
    {
     "data": {
      "text/plain": [
       "[-1, 0, -2]"
      ]
     },
     "execution_count": 7,
     "metadata": {},
     "output_type": "execute_result"
    }
   ],
   "source": [
    "# Operações com os valores de um dicionário\n",
    "# Subtrai\n",
    "sub = [v - list(dic['item2'].values())[i] for i, v in enumerate(dic['item1'].values())]\n",
    "sub"
   ]
  },
  {
   "cell_type": "code",
   "execution_count": 8,
   "metadata": {},
   "outputs": [
    {
     "data": {
      "text/plain": [
       "[1, 0, 4]"
      ]
     },
     "execution_count": 8,
     "metadata": {},
     "output_type": "execute_result"
    }
   ],
   "source": [
    "# Quadrado\n",
    "qua = [pow(x, 2) for x in sub]\n",
    "qua"
   ]
  },
  {
   "cell_type": "code",
   "execution_count": 9,
   "metadata": {},
   "outputs": [
    {
     "data": {
      "text/plain": [
       "5"
      ]
     },
     "execution_count": 9,
     "metadata": {},
     "output_type": "execute_result"
    }
   ],
   "source": [
    "# Soma\n",
    "sum(qua)"
   ]
  },
  {
   "cell_type": "code",
   "execution_count": 10,
   "metadata": {},
   "outputs": [
    {
     "data": {
      "text/plain": [
       "5"
      ]
     },
     "execution_count": 10,
     "metadata": {},
     "output_type": "execute_result"
    }
   ],
   "source": [
    "# Subtrai, eleva ao quadrado e soma os valores de um dicionário\n",
    "sum([pow(v - list(dic['item2'].values())[i], 2) for i, v in enumerate(dic['item1'].values())])"
   ]
  },
  {
   "cell_type": "code",
   "execution_count": 11,
   "metadata": {},
   "outputs": [
    {
     "data": {
      "text/plain": [
       "1"
      ]
     },
     "execution_count": 11,
     "metadata": {},
     "output_type": "execute_result"
    }
   ],
   "source": [
    "# Subtrai, eleva ao quadrado e soma os valores de um dicionário se a chave estiver no item1 e no item2\n",
    "sum([pow(dic['item1'][i] - dic['item2'][i], 2) for i in dic['item1'] if i in dic['item2']])"
   ]
  },
  {
   "cell_type": "code",
   "execution_count": 12,
   "metadata": {},
   "outputs": [],
   "source": [
    "# Divide o valor do dic2 pelo do dic1 desde que a chave seja igual\n",
    "lista = [1,2,3]\n",
    "dic1 = {'a':3,'b':4,'c':5}\n",
    "dic2 = {'a':1, 'b': 2, 'c':3}"
   ]
  },
  {
   "cell_type": "code",
   "execution_count": 13,
   "metadata": {},
   "outputs": [
    {
     "data": {
      "text/plain": [
       "[(0.3333333333333333, 'a'), (0.5, 'b'), (0.6, 'c')]"
      ]
     },
     "execution_count": 13,
     "metadata": {},
     "output_type": "execute_result"
    }
   ],
   "source": [
    "[(x/dic1[item], item) for item, x in dic2.items()]"
   ]
  },
  {
   "cell_type": "markdown",
   "metadata": {},
   "source": [
    "## Trabalhando com listas"
   ]
  },
  {
   "cell_type": "code",
   "execution_count": 14,
   "metadata": {},
   "outputs": [],
   "source": [
    "# Uma lista\n",
    "lista = [8,5,3,3,0.5,0.5]"
   ]
  },
  {
   "cell_type": "code",
   "execution_count": 15,
   "metadata": {},
   "outputs": [
    {
     "data": {
      "text/plain": [
       "[(0, 8), (1, 5), (2, 3), (3, 3), (4, 0.5), (5, 0.5)]"
      ]
     },
     "execution_count": 15,
     "metadata": {},
     "output_type": "execute_result"
    }
   ],
   "source": [
    "# Retorna os index e valores da lista\n",
    "list(enumerate(lista))"
   ]
  },
  {
   "cell_type": "code",
   "execution_count": 16,
   "metadata": {},
   "outputs": [
    {
     "data": {
      "text/plain": [
       "[8, 5, 3, 3, 0.5, 0.5]"
      ]
     },
     "execution_count": 16,
     "metadata": {},
     "output_type": "execute_result"
    }
   ],
   "source": [
    "# Simplesmente retorna cada item da lista\n",
    "[x for x in lista]"
   ]
  },
  {
   "cell_type": "code",
   "execution_count": 17,
   "metadata": {},
   "outputs": [
    {
     "data": {
      "text/plain": [
       "[16, 10, 6, 6, 1.0, 1.0]"
      ]
     },
     "execution_count": 17,
     "metadata": {},
     "output_type": "execute_result"
    }
   ],
   "source": [
    "# Operação simples com cada item\n",
    "[x * 2 for x in lista]"
   ]
  },
  {
   "cell_type": "code",
   "execution_count": 20,
   "metadata": {},
   "outputs": [
    {
     "data": {
      "text/plain": [
       "[[24, 5, 512],\n",
       " [15, 2, 125],\n",
       " [9, 0, 27],\n",
       " [9, 0, 27],\n",
       " [1.5, -2.5, 0.125],\n",
       " [1.5, -2.5, 0.125]]"
      ]
     },
     "execution_count": 20,
     "metadata": {},
     "output_type": "execute_result"
    }
   ],
   "source": [
    "# Múltiplas operações com cada item da lista\n",
    "[[x * 3, x - 3, x ** 3] for x in lista]"
   ]
  },
  {
   "cell_type": "code",
   "execution_count": 21,
   "metadata": {},
   "outputs": [],
   "source": [
    "# 2 listas\n",
    "notas1 = [8,5,3,3,0.5,0.5]\n",
    "notas2 = [3,3,5,5,5,0.5]"
   ]
  },
  {
   "cell_type": "code",
   "execution_count": 22,
   "metadata": {},
   "outputs": [
    {
     "name": "stdout",
     "output_type": "stream",
     "text": [
      "(0, 8)\n",
      "(1, 5)\n",
      "(2, 3)\n",
      "(3, 3)\n",
      "(4, 0.5)\n",
      "(5, 0.5)\n"
     ]
    }
   ],
   "source": [
    "for i in enumerate(notas1): print (i)"
   ]
  },
  {
   "cell_type": "code",
   "execution_count": 23,
   "metadata": {},
   "outputs": [
    {
     "data": {
      "text/plain": [
       "[(3, 8), (3, 5), (5, 3), (5, 3), (5, 0.5), (0.5, 0.5)]"
      ]
     },
     "execution_count": 23,
     "metadata": {},
     "output_type": "execute_result"
    }
   ],
   "source": [
    "# Retorna os itens das duas listas\n",
    "# A ordem influencia - Para obter os índices o i tem que estar na esquerda e os valores vão para a variável x\n",
    "[(x, notas1[i]) for i, x in enumerate(notas2)]"
   ]
  },
  {
   "cell_type": "code",
   "execution_count": 24,
   "metadata": {},
   "outputs": [
    {
     "data": {
      "text/plain": [
       "[(2.6666666666666665, 0),\n",
       " (1.6666666666666667, 1),\n",
       " (0.6, 2),\n",
       " (0.6, 3),\n",
       " (0.1, 4),\n",
       " (1.0, 5)]"
      ]
     },
     "execution_count": 24,
     "metadata": {},
     "output_type": "execute_result"
    }
   ],
   "source": [
    "# Divide as notas da lista1 pelas da lista2\n",
    "lista = [(x/notas2[item], item) for item, x in enumerate(notas1)]\n",
    "lista"
   ]
  },
  {
   "cell_type": "code",
   "execution_count": 25,
   "metadata": {},
   "outputs": [
    {
     "data": {
      "text/plain": [
       "[25, 4, 4, 4, 20.25, 0.0]"
      ]
     },
     "execution_count": 25,
     "metadata": {},
     "output_type": "execute_result"
    }
   ],
   "source": [
    "# Operações mais complexas com 2 listas - Subtração e Exponenciação\n",
    "[pow(notas1[i] - x, 2) for i, x in enumerate(notas2)]"
   ]
  },
  {
   "cell_type": "code",
   "execution_count": 88,
   "metadata": {},
   "outputs": [
    {
     "data": {
      "text/plain": [
       "[3.3166247903554,\n",
       " 2.8284271247461903,\n",
       " 2.8284271247461903,\n",
       " 2.8284271247461903,\n",
       " 2.345207879911715,\n",
       " 1.0]"
      ]
     },
     "execution_count": 88,
     "metadata": {},
     "output_type": "execute_result"
    }
   ],
   "source": [
    "import math\n",
    "[math.sqrt(notas1[i] + x) for i, x in enumerate(notas2)]"
   ]
  },
  {
   "cell_type": "code",
   "execution_count": 89,
   "metadata": {},
   "outputs": [
    {
     "data": {
      "text/plain": [
       "57.25"
      ]
     },
     "execution_count": 89,
     "metadata": {},
     "output_type": "execute_result"
    }
   ],
   "source": [
    "# Somando tudo\n",
    "sum([pow(notas1[i] - x, 2) for i, x in enumerate(notas2)])"
   ]
  },
  {
   "cell_type": "code",
   "execution_count": 90,
   "metadata": {},
   "outputs": [],
   "source": [
    "notas1 = [8,5,3,3,0.5,0.5]\n",
    "notas2 = [3,3,5,5,5,0.5]"
   ]
  },
  {
   "cell_type": "code",
   "execution_count": 26,
   "metadata": {},
   "outputs": [
    {
     "data": {
      "text/plain": [
       "[37778931862957161709568, 625, 81, 81, 8.019413139855523e-07, 1.0]"
      ]
     },
     "execution_count": 26,
     "metadata": {},
     "output_type": "execute_result"
    }
   ],
   "source": [
    "# Mais complexa ainda\n",
    "# Calcula a exponenciação dos valores da lista1 com os resultados da subtração e quadrado dos valores das duas listas)\n",
    "lst = [(notas1[x]**y) for x, y in enumerate([pow(notas1[i] - v, 2) for i, v in enumerate(notas2)])]\n",
    "lst"
   ]
  },
  {
   "cell_type": "markdown",
   "metadata": {},
   "source": [
    "# Fim"
   ]
  }
 ],
 "metadata": {
  "kernelspec": {
   "display_name": "Python 3",
   "language": "python",
   "name": "python3"
  },
  "language_info": {
   "codemirror_mode": {
    "name": "ipython",
    "version": 3
   },
   "file_extension": ".py",
   "mimetype": "text/x-python",
   "name": "python",
   "nbconvert_exporter": "python",
   "pygments_lexer": "ipython3",
   "version": "3.7.6"
  }
 },
 "nbformat": 4,
 "nbformat_minor": 4
}
