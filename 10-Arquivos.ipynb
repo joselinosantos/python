{
 "cells": [
  {
   "cell_type": "markdown",
   "metadata": {},
   "source": [
    "# Trabalhando com arquivos"
   ]
  },
  {
   "cell_type": "code",
   "execution_count": 492,
   "metadata": {},
   "outputs": [
    {
     "name": "stdout",
     "output_type": "stream",
     "text": [
      "ia\n",
      "\n",
      "iot\n",
      "\n",
      "AR\n",
      "\n",
      "VR\n",
      "\n",
      "True\n",
      "O modo ao qual foi eberto  r\n",
      "hightech.txt\n"
     ]
    }
   ],
   "source": [
    "arquivo=open('hightech.txt','w') #r ler w escrever\n",
    "arquivo.write('ia\\n')\n",
    "arquivo.write('iot\\n')\n",
    "arquivo.write('AR\\n')\n",
    "arquivo.write('VR\\n')\n",
    "arquivo.close()\n",
    "\n",
    "arquivo=open('hightech.txt','r') #r ler w escrever\n",
    "#for linha in arquivo.readline():\n",
    "for linha in arquivo.readlines():\n",
    "    print(linha)\n",
    "arquivo.flush()\n",
    "arquivo.close()\n",
    "\n",
    "print(arquivo.closed) #verifica se esta fechado\n",
    "\n",
    "print('O modo ao qual foi eberto ',arquivo.mode)\n",
    "print(arquivo.name)"
   ]
  },
  {
   "cell_type": "code",
   "execution_count": 1,
   "metadata": {},
   "outputs": [],
   "source": [
    "## Fim"
   ]
  },
  {
   "cell_type": "code",
   "execution_count": null,
   "metadata": {},
   "outputs": [],
   "source": []
  }
 ],
 "metadata": {
  "kernelspec": {
   "display_name": "Python 3",
   "language": "python",
   "name": "python3"
  },
  "language_info": {
   "codemirror_mode": {
    "name": "ipython",
    "version": 3
   },
   "file_extension": ".py",
   "mimetype": "text/x-python",
   "name": "python",
   "nbconvert_exporter": "python",
   "pygments_lexer": "ipython3",
   "version": "3.7.6"
  }
 },
 "nbformat": 4,
 "nbformat_minor": 4
}
