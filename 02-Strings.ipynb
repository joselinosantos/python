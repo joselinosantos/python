{
 "cells": [
  {
   "cell_type": "markdown",
   "metadata": {},
   "source": [
    "# Trabalhando com strings"
   ]
  },
  {
   "cell_type": "markdown",
   "metadata": {},
   "source": [
    "## Criando"
   ]
  },
  {
   "cell_type": "code",
   "execution_count": 64,
   "metadata": {},
   "outputs": [],
   "source": [
    "# Strings\n",
    "frase = 'Python é sem sacional'"
   ]
  },
  {
   "cell_type": "code",
   "execution_count": 96,
   "metadata": {},
   "outputs": [],
   "source": [
    "# Strings com várias linhas - O que antes era comentário agora é conteúdo da variável\n",
    "frase = '''\n",
    "Python é uma linguagem de programação de alto nível, interpretada, de script,\n",
    "imperativa, orientada a objetos, funcional, de tipagem dinâmica e forte. \n",
    "Foi lançada por Guido van Rossum em 1991.\n",
    "'''"
   ]
  },
  {
   "cell_type": "markdown",
   "metadata": {},
   "source": [
    "## Métodos"
   ]
  },
  {
   "cell_type": "code",
   "execution_count": 97,
   "metadata": {},
   "outputs": [
    {
     "data": {
      "text/plain": [
       "['__add__',\n",
       " '__class__',\n",
       " '__contains__',\n",
       " '__delattr__',\n",
       " '__dir__',\n",
       " '__doc__',\n",
       " '__eq__',\n",
       " '__format__',\n",
       " '__ge__',\n",
       " '__getattribute__',\n",
       " '__getitem__',\n",
       " '__getnewargs__',\n",
       " '__gt__',\n",
       " '__hash__',\n",
       " '__init__',\n",
       " '__init_subclass__',\n",
       " '__iter__',\n",
       " '__le__',\n",
       " '__len__',\n",
       " '__lt__',\n",
       " '__mod__',\n",
       " '__mul__',\n",
       " '__ne__',\n",
       " '__new__',\n",
       " '__reduce__',\n",
       " '__reduce_ex__',\n",
       " '__repr__',\n",
       " '__rmod__',\n",
       " '__rmul__',\n",
       " '__setattr__',\n",
       " '__sizeof__',\n",
       " '__str__',\n",
       " '__subclasshook__',\n",
       " 'capitalize',\n",
       " 'casefold',\n",
       " 'center',\n",
       " 'count',\n",
       " 'encode',\n",
       " 'endswith',\n",
       " 'expandtabs',\n",
       " 'find',\n",
       " 'format',\n",
       " 'format_map',\n",
       " 'index',\n",
       " 'isalnum',\n",
       " 'isalpha',\n",
       " 'isascii',\n",
       " 'isdecimal',\n",
       " 'isdigit',\n",
       " 'isidentifier',\n",
       " 'islower',\n",
       " 'isnumeric',\n",
       " 'isprintable',\n",
       " 'isspace',\n",
       " 'istitle',\n",
       " 'isupper',\n",
       " 'join',\n",
       " 'ljust',\n",
       " 'lower',\n",
       " 'lstrip',\n",
       " 'maketrans',\n",
       " 'partition',\n",
       " 'replace',\n",
       " 'rfind',\n",
       " 'rindex',\n",
       " 'rjust',\n",
       " 'rpartition',\n",
       " 'rsplit',\n",
       " 'rstrip',\n",
       " 'split',\n",
       " 'splitlines',\n",
       " 'startswith',\n",
       " 'strip',\n",
       " 'swapcase',\n",
       " 'title',\n",
       " 'translate',\n",
       " 'upper',\n",
       " 'zfill']"
      ]
     },
     "execution_count": 97,
     "metadata": {},
     "output_type": "execute_result"
    }
   ],
   "source": [
    "# Lista os métodos possíveis para o objeto\n",
    "dir(frase)"
   ]
  },
  {
   "cell_type": "code",
   "execution_count": 67,
   "metadata": {},
   "outputs": [
    {
     "data": {
      "text/plain": [
       "'\\nPYTHON É UMA LINGUAGEM DE PROGRAMAÇÃO DE ALTO NÍVEL, INTERPRETADA, DE SCRIPT,\\nIMPERATIVA, ORIENTADA A OBJETOS, FUNCIONAL, DE TIPAGEM DINÂMICA E FORTE. \\nFOI LANÇADA POR GUIDO VAN ROSSUM EM 1991.\\n'"
      ]
     },
     "execution_count": 67,
     "metadata": {},
     "output_type": "execute_result"
    }
   ],
   "source": [
    "# Tudo em maiúsculo\n",
    "frase.upper()"
   ]
  },
  {
   "cell_type": "code",
   "execution_count": 98,
   "metadata": {},
   "outputs": [
    {
     "data": {
      "text/plain": [
       "'\\nPYTHON é uma linguagem de programação de alto nível, interpretada, de script,\\nimperativa, orientada a objetos, funcional, de tipagem dinâmica e forte. \\nFoi lançada por Guido van Rossum em 1991.\\n'"
      ]
     },
     "execution_count": 98,
     "metadata": {},
     "output_type": "execute_result"
    }
   ],
   "source": [
    "# Substitui palavra ou termo\n",
    "frase.replace('Python', 'PYTHON')"
   ]
  },
  {
   "cell_type": "code",
   "execution_count": 69,
   "metadata": {},
   "outputs": [
    {
     "data": {
      "text/plain": [
       "False"
      ]
     },
     "execution_count": 69,
     "metadata": {},
     "output_type": "execute_result"
    }
   ],
   "source": [
    "# Retorna True se a variável se iniciar com o caractere passado\n",
    "frase.startswith('P')"
   ]
  },
  {
   "cell_type": "code",
   "execution_count": 70,
   "metadata": {},
   "outputs": [
    {
     "data": {
      "text/plain": [
       "False"
      ]
     },
     "execution_count": 70,
     "metadata": {},
     "output_type": "execute_result"
    }
   ],
   "source": [
    "# Retorna True se a variável terminar com o caractere passado\n",
    "frase.endswith('l') "
   ]
  },
  {
   "cell_type": "code",
   "execution_count": 71,
   "metadata": {},
   "outputs": [
    {
     "data": {
      "text/plain": [
       "71"
      ]
     },
     "execution_count": 71,
     "metadata": {},
     "output_type": "execute_result"
    }
   ],
   "source": [
    "# Encontra a posição inicial de um texto (contando os espaços) - começa sempre com 0\n",
    "frase.find('s')"
   ]
  },
  {
   "cell_type": "code",
   "execution_count": 72,
   "metadata": {},
   "outputs": [
    {
     "data": {
      "text/plain": [
       "19"
      ]
     },
     "execution_count": 72,
     "metadata": {},
     "output_type": "execute_result"
    }
   ],
   "source": [
    "# Conta as ocorrências do texto passado\n",
    "frase.count('a')"
   ]
  },
  {
   "cell_type": "code",
   "execution_count": 73,
   "metadata": {},
   "outputs": [
    {
     "data": {
      "text/plain": [
       "'Lucas Silva'"
      ]
     },
     "execution_count": 73,
     "metadata": {},
     "output_type": "execute_result"
    }
   ],
   "source": [
    "# Limpeza - Remove espaços excedentes\n",
    "nome = '   Lucas Silva   '\n",
    "nome.strip()"
   ]
  },
  {
   "cell_type": "code",
   "execution_count": 74,
   "metadata": {},
   "outputs": [
    {
     "data": {
      "text/plain": [
       "False"
      ]
     },
     "execution_count": 74,
     "metadata": {},
     "output_type": "execute_result"
    }
   ],
   "source": [
    "# Retorna true se for número\n",
    "frase.isnumeric()"
   ]
  },
  {
   "cell_type": "code",
   "execution_count": 75,
   "metadata": {},
   "outputs": [
    {
     "data": {
      "text/plain": [
       "False"
      ]
     },
     "execution_count": 75,
     "metadata": {},
     "output_type": "execute_result"
    }
   ],
   "source": [
    "# Alfanumérico\n",
    "frase.isalpha()"
   ]
  },
  {
   "cell_type": "code",
   "execution_count": 101,
   "metadata": {},
   "outputs": [
    {
     "data": {
      "text/plain": [
       "'\\nPython É Uma Linguagem De Programação De Alto Nível, Interpretada, De Script,\\nImperativa, Orientada A Objetos, Funcional, De Tipagem Dinâmica E Forte. \\nFoi Lançada Por Guido Van Rossum Em 1991.\\n'"
      ]
     },
     "execution_count": 101,
     "metadata": {},
     "output_type": "execute_result"
    }
   ],
   "source": [
    "# Formato de título\n",
    "frase.title()"
   ]
  },
  {
   "cell_type": "code",
   "execution_count": 105,
   "metadata": {},
   "outputs": [
    {
     "data": {
      "text/plain": [
       "['Python',\n",
       " 'é',\n",
       " 'uma',\n",
       " 'linguagem',\n",
       " 'de',\n",
       " 'programação',\n",
       " 'de',\n",
       " 'alto',\n",
       " 'nível,',\n",
       " 'interpretada,',\n",
       " 'de',\n",
       " 'script,',\n",
       " 'imperativa,',\n",
       " 'orientada',\n",
       " 'a',\n",
       " 'objetos,',\n",
       " 'funcional,',\n",
       " 'de',\n",
       " 'tipagem',\n",
       " 'dinâmica',\n",
       " 'e',\n",
       " 'forte.',\n",
       " 'Foi',\n",
       " 'lançada',\n",
       " 'por',\n",
       " 'Guido',\n",
       " 'van',\n",
       " 'Rossum',\n",
       " 'em',\n",
       " '1991.']"
      ]
     },
     "execution_count": 105,
     "metadata": {},
     "output_type": "execute_result"
    }
   ],
   "source": [
    "# Divide a string com base em caracter passado - espaço é padrão\n",
    "frase.split()"
   ]
  },
  {
   "cell_type": "code",
   "execution_count": 196,
   "metadata": {},
   "outputs": [
    {
     "data": {
      "text/plain": [
       "['\\nPython é uma linguagem de programação de alto nível',\n",
       " ' interpretada',\n",
       " ' de script',\n",
       " '\\nimperativa',\n",
       " ' orientada a objetos',\n",
       " ' funcional',\n",
       " ' de tipagem dinâmica e forte. \\nFoi lançada por Guido van Rossum em 1991.\\n']"
      ]
     },
     "execution_count": 196,
     "metadata": {},
     "output_type": "execute_result"
    }
   ],
   "source": [
    "# Divide com critério vírgula\n",
    "frase.split(',')"
   ]
  },
  {
   "cell_type": "code",
   "execution_count": 200,
   "metadata": {},
   "outputs": [
    {
     "data": {
      "text/plain": [
       "'Python'"
      ]
     },
     "execution_count": 200,
     "metadata": {},
     "output_type": "execute_result"
    }
   ],
   "source": [
    "# Acessa cada palavra pelo index\n",
    "nova = frase.split()[0]\n",
    "nova"
   ]
  },
  {
   "cell_type": "code",
   "execution_count": 201,
   "metadata": {},
   "outputs": [
    {
     "data": {
      "text/plain": [
       "1"
      ]
     },
     "execution_count": 201,
     "metadata": {},
     "output_type": "execute_result"
    }
   ],
   "source": [
    "# Exibe o index do início da ocorrência\n",
    "frase.find('Python')"
   ]
  },
  {
   "cell_type": "code",
   "execution_count": 202,
   "metadata": {},
   "outputs": [
    {
     "data": {
      "text/plain": [
       "'\\n-P-y-t-h-o-n- -é- -u-m-a- -l-i-n-g-u-a-g-e-m- -d-e- -p-r-o-g-r-a-m-a-ç-ã-o- -d-e- -a-l-t-o- -n-í-v-e-l-,- -i-n-t-e-r-p-r-e-t-a-d-a-,- -d-e- -s-c-r-i-p-t-,-\\n-i-m-p-e-r-a-t-i-v-a-,- -o-r-i-e-n-t-a-d-a- -a- -o-b-j-e-t-o-s-,- -f-u-n-c-i-o-n-a-l-,- -d-e- -t-i-p-a-g-e-m- -d-i-n-â-m-i-c-a- -e- -f-o-r-t-e-.- -\\n-F-o-i- -l-a-n-ç-a-d-a- -p-o-r- -G-u-i-d-o- -v-a-n- -R-o-s-s-u-m- -e-m- -1-9-9-1-.-\\n'"
      ]
     },
     "execution_count": 202,
     "metadata": {},
     "output_type": "execute_result"
    }
   ],
   "source": [
    "# Junção\n",
    "'-'.join(frase)"
   ]
  },
  {
   "cell_type": "code",
   "execution_count": 204,
   "metadata": {},
   "outputs": [
    {
     "data": {
      "text/plain": [
       "True"
      ]
     },
     "execution_count": 204,
     "metadata": {},
     "output_type": "execute_result"
    }
   ],
   "source": [
    "# Verifica se a string contém ou não um texto\n",
    "'Python' in frase"
   ]
  },
  {
   "cell_type": "code",
   "execution_count": 205,
   "metadata": {},
   "outputs": [
    {
     "data": {
      "text/plain": [
       "False"
      ]
     },
     "execution_count": 205,
     "metadata": {},
     "output_type": "execute_result"
    }
   ],
   "source": [
    "'Python' not in frase"
   ]
  },
  {
   "cell_type": "markdown",
   "metadata": {},
   "source": [
    "## Fatiamento"
   ]
  },
  {
   "cell_type": "code",
   "execution_count": 207,
   "metadata": {},
   "outputs": [
    {
     "data": {
      "text/plain": [
       "'P'"
      ]
     },
     "execution_count": 207,
     "metadata": {},
     "output_type": "execute_result"
    }
   ],
   "source": [
    "# Fatiamento - Começa sempre com 0\n",
    "frase[1] # Primeira letra"
   ]
  },
  {
   "cell_type": "code",
   "execution_count": 209,
   "metadata": {},
   "outputs": [],
   "source": [
    "# Elementos das Strings são imutáveis - Retorna erro\n",
    "#frase[1] = 'A'"
   ]
  },
  {
   "cell_type": "code",
   "execution_count": 78,
   "metadata": {},
   "outputs": [
    {
     "name": "stdout",
     "output_type": "stream",
     "text": [
      "\n",
      "Python \n"
     ]
    }
   ],
   "source": [
    "# Ignorando o primeiro ele inicia em 0 e vai até o número passado exceto o'ultimo\n",
    "print(frase[:8])"
   ]
  },
  {
   "cell_type": "code",
   "execution_count": 82,
   "metadata": {},
   "outputs": [
    {
     "name": "stdout",
     "output_type": "stream",
     "text": [
      "uma linguagem de programação de alto nível, interpretada, de script,\n",
      "imperativa, orientada a objetos, funcional, de tipagem dinâmica e forte. \n",
      "Foi lançada por Guido van Rossum em 1991.\n",
      "\n"
     ]
    }
   ],
   "source": [
    "# Ignorando o último ele vai até o fim\n",
    "print(frase[10:]) "
   ]
  },
  {
   "cell_type": "code",
   "execution_count": 172,
   "metadata": {},
   "outputs": [
    {
     "name": "stdout",
     "output_type": "stream",
     "text": [
      "\n",
      "Python é uma linguagem de programação de alto nível, interpretada, de script,\n",
      "imperativa, orientada a objetos, funcional, de tipagem dinâmica e forte. \n",
      "Foi lançada por Guido van Rossum em 1991.\n",
      "\n"
     ]
    }
   ],
   "source": [
    "# Todos os elementos\n",
    "print(frase[:]) "
   ]
  },
  {
   "cell_type": "code",
   "execution_count": 175,
   "metadata": {},
   "outputs": [
    {
     "data": {
      "text/plain": [
       "'ualnugmd rgaaã eat í'"
      ]
     },
     "execution_count": 175,
     "metadata": {},
     "output_type": "execute_result"
    }
   ],
   "source": [
    "# Pulando de 2 em 2\n",
    "frase[10:50:2]"
   ]
  },
  {
   "cell_type": "code",
   "execution_count": 179,
   "metadata": {},
   "outputs": [
    {
     "data": {
      "text/plain": [
       "'ualnugmd rgaaã eat íe,itrrtd,d cit\\nmeaia retd  beo,fninl etpgmdnmc  ot.\\no açd o ud a osme 91\\n'"
      ]
     },
     "execution_count": 179,
     "metadata": {},
     "output_type": "execute_result"
    }
   ],
   "source": [
    "# Começa no 10 e vai até o final de 2 em 2\n",
    "frase[10::2]"
   ]
  },
  {
   "cell_type": "code",
   "execution_count": 90,
   "metadata": {},
   "outputs": [
    {
     "name": "stdout",
     "output_type": "stream",
     "text": [
      "1\n"
     ]
    }
   ],
   "source": [
    "print(frase[-3]) # Negativos - Percorre do final para o início (elemento de index 3)"
   ]
  },
  {
   "cell_type": "code",
   "execution_count": 180,
   "metadata": {},
   "outputs": [
    {
     "name": "stdout",
     "output_type": "stream",
     "text": [
      "1991\n"
     ]
    }
   ],
   "source": [
    "print(frase[-6:-2]) # Fatia - Percorre do final para o início (elemento de index 3 até 5)"
   ]
  },
  {
   "cell_type": "code",
   "execution_count": 182,
   "metadata": {},
   "outputs": [
    {
     "data": {
      "text/plain": [
       "'\\n.1991 me mussoR nav odiuG rop adaçnal ioF\\n .etrof e acimânid megapit ed ,lanoicnuf ,sotejbo a adatneiro ,avitarepmi\\n,tpircs ed ,adaterpretni ,levín otla ed oãçamargorp ed megaugnil amu é nohtyP\\n'"
      ]
     },
     "execution_count": 182,
     "metadata": {},
     "output_type": "execute_result"
    }
   ],
   "source": [
    "# Reverso do texto\n",
    "frase[::-1]"
   ]
  },
  {
   "cell_type": "code",
   "execution_count": 183,
   "metadata": {},
   "outputs": [
    {
     "data": {
      "text/plain": [
       "195"
      ]
     },
     "execution_count": 183,
     "metadata": {},
     "output_type": "execute_result"
    }
   ],
   "source": [
    "# Tamanho da String\n",
    "len(frase)"
   ]
  },
  {
   "cell_type": "code",
   "execution_count": 186,
   "metadata": {},
   "outputs": [
    {
     "data": {
      "text/plain": [
       "1"
      ]
     },
     "execution_count": 186,
     "metadata": {},
     "output_type": "execute_result"
    }
   ],
   "source": [
    "# Contagem com fatiamento - Fatia de 0 a 13 procurar a quantidade de P\n",
    "frase.count('P', 0, 13)"
   ]
  },
  {
   "cell_type": "markdown",
   "metadata": {},
   "source": [
    "## Concatenação"
   ]
  },
  {
   "cell_type": "code",
   "execution_count": 116,
   "metadata": {},
   "outputs": [
    {
     "name": "stdout",
     "output_type": "stream",
     "text": [
      "João Silva\n"
     ]
    }
   ],
   "source": [
    "nome = 'João'\n",
    "sobrenome = 'Silva'\n",
    "print(nome + ' '+ sobrenome)"
   ]
  },
  {
   "cell_type": "markdown",
   "metadata": {},
   "source": [
    "## Formatação"
   ]
  },
  {
   "cell_type": "code",
   "execution_count": 118,
   "metadata": {},
   "outputs": [
    {
     "name": "stdout",
     "output_type": "stream",
     "text": [
      "Meu nome é  Maria  e idade é  30\n"
     ]
    }
   ],
   "source": [
    "nome = 'Maria'\n",
    "idade = 30\n",
    "print('Meu nome é ',nome,' e idade é ',idade)"
   ]
  },
  {
   "cell_type": "code",
   "execution_count": 123,
   "metadata": {},
   "outputs": [
    {
     "name": "stdout",
     "output_type": "stream",
     "text": [
      "Meu nome é Maria e nome é 30\n"
     ]
    }
   ],
   "source": [
    "print('Meu nome é {} e nome é {}'.format(nome, idade))"
   ]
  },
  {
   "cell_type": "code",
   "execution_count": 128,
   "metadata": {},
   "outputs": [
    {
     "name": "stdout",
     "output_type": "stream",
     "text": [
      "Meu nome é Maria e nome é 30\n"
     ]
    }
   ],
   "source": [
    "print('Meu nome é {0} e nome é {1}'.format(nome, idade))"
   ]
  },
  {
   "cell_type": "code",
   "execution_count": 130,
   "metadata": {},
   "outputs": [
    {
     "name": "stdout",
     "output_type": "stream",
     "text": [
      "Meu nome é Maria e nome é 30\n"
     ]
    }
   ],
   "source": [
    "# Adiciona o f e melhora o código\n",
    "print(f'Meu nome é {nome} e nome é {idade}')"
   ]
  },
  {
   "cell_type": "markdown",
   "metadata": {},
   "source": [
    "## Caracteres de escape"
   ]
  },
  {
   "cell_type": "markdown",
   "metadata": {},
   "source": [
    "- \\\\'\tAspas simples\n",
    "- \\\\\\\tContrabarra\t\n",
    "- \\n\tNova linha\n",
    "- \\r\tDivide linha\n",
    "- \\t\tTabulação\n",
    "- \\b\tApaga letra esquerda (Tecla Backscpace)\n",
    "- \\f\tForm Feed\n",
    "- \\ooo\tValores octais\t\n",
    "- \\xhh\tValores Hexadecimais"
   ]
  },
  {
   "cell_type": "code",
   "execution_count": 171,
   "metadata": {},
   "outputs": [
    {
     "name": "stdout",
     "output_type": "stream",
     "text": [
      "Aspas simples: '\n",
      "Contrabarra: \\\n",
      "Nova linha: \n",
      "\n",
      "Divide\r",
      "linha\n",
      "Tabulação: \tNome \tCPF\n",
      "Apaga letra esquerda\b\n",
      "Feed\f",
      "\n",
      "Hello\n",
      "Hello\n"
     ]
    }
   ],
   "source": [
    "# Tem que usar aspas duplas na abertura e fechamentopara evitar erro\n",
    "txt = \"Aspas simples: \\'\"\n",
    "print(txt)\n",
    "txt = \"Contrabarra: \\\\\"\n",
    "print(txt)\n",
    "txt = \"Nova linha: \\n\"\n",
    "print(txt)\n",
    "txt = \"Divide\\rlinha em 2\"\n",
    "print(txt)\n",
    "txt = \"Tabulação: \\tNome \\tCPF\"\n",
    "print(txt)\n",
    "txt = \"Apaga letra esquerda\\b\"\n",
    "print(txt)\n",
    "txt = \"Feed\\f\"\n",
    "print(txt)\n",
    "txt = \"\\110\\145\\154\\154\\157\"\n",
    "print(txt) \n",
    "txt = \"\\x48\\x65\\x6c\\x6c\\x6f\"\n",
    "print(txt) "
   ]
  },
  {
   "cell_type": "markdown",
   "metadata": {},
   "source": [
    "## Fim"
   ]
  }
 ],
 "metadata": {
  "kernelspec": {
   "display_name": "Python 3",
   "language": "python",
   "name": "python3"
  },
  "language_info": {
   "codemirror_mode": {
    "name": "ipython",
    "version": 3
   },
   "file_extension": ".py",
   "mimetype": "text/x-python",
   "name": "python",
   "nbconvert_exporter": "python",
   "pygments_lexer": "ipython3",
   "version": "3.7.6"
  }
 },
 "nbformat": 4,
 "nbformat_minor": 4
}
