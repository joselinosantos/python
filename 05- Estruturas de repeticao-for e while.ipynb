{
 "cells": [
  {
   "cell_type": "markdown",
   "metadata": {},
   "source": [
    "# Estruturas de repetição for e While"
   ]
  },
  {
   "cell_type": "markdown",
   "metadata": {},
   "source": [
    "## while"
   ]
  },
  {
   "cell_type": "markdown",
   "metadata": {},
   "source": [
    "Quem já conhece Lógica de programação ou outras linguagens já sabe como funciona. Tem que ter uma variável de controle, uma condição de parada e um incremento ou decremento."
   ]
  },
  {
   "cell_type": "code",
   "execution_count": 2,
   "metadata": {},
   "outputs": [
    {
     "name": "stdout",
     "output_type": "stream",
     "text": [
      "0\n",
      "1\n",
      "2\n",
      "3\n",
      "4\n",
      "5\n",
      "6\n",
      "7\n",
      "8\n",
      "9\n"
     ]
    }
   ],
   "source": [
    "# Variável i controla, condição de parada é enquanto i for menor que 10\n",
    "i=0\n",
    "while i < 10:\n",
    "    print(i)\n",
    "    i += 1"
   ]
  },
  {
   "cell_type": "code",
   "execution_count": null,
   "metadata": {},
   "outputs": [],
   "source": [
    "# Loop infinito\n",
    "# Bom para ser usado quando não sabemos a quantidade de vezes que um código deve ser executado\n",
    "while True:\n",
    "    nome = str(input('Digite o nome: '))"
   ]
  },
  {
   "cell_type": "markdown",
   "metadata": {},
   "source": [
    "### Break e Continue"
   ]
  },
  {
   "cell_type": "code",
   "execution_count": 8,
   "metadata": {},
   "outputs": [
    {
     "name": "stdout",
     "output_type": "stream",
     "text": [
      "Digite o nome ou s para sair João\n",
      "Digite o nome ou s para sair s\n",
      "Finalizado\n"
     ]
    }
   ],
   "source": [
    "# O break vai interromper o Loop\n",
    "\n",
    "while True:\n",
    "    nome = str(input('Digite o nome ou s para sair '))\n",
    "    if nome == 's':\n",
    "        break\n",
    "print('Finalizado')"
   ]
  },
  {
   "cell_type": "code",
   "execution_count": 10,
   "metadata": {},
   "outputs": [
    {
     "name": "stdout",
     "output_type": "stream",
     "text": [
      "Digite o nome João\n",
      "Quer continuar? s/nn\n",
      "Finalizado\n"
     ]
    }
   ],
   "source": [
    "# O continue vai pular uma execução e continuar na próxima\n",
    "\n",
    "while True:\n",
    "    nome = str(input('Digite o nome '))\n",
    "    resp = str(input('Quer continuar? s/n'))\n",
    "    if resp == 's':\n",
    "        continue\n",
    "    else:\n",
    "        break\n",
    "print('Finalizado')"
   ]
  },
  {
   "cell_type": "markdown",
   "metadata": {},
   "source": [
    "# For"
   ]
  },
  {
   "cell_type": "markdown",
   "metadata": {},
   "source": [
    "Essa estrutura é bem poderosa em Python. Usada quando sabemos até onde vai a execução."
   ]
  },
  {
   "cell_type": "code",
   "execution_count": 34,
   "metadata": {},
   "outputs": [
    {
     "name": "stdout",
     "output_type": "stream",
     "text": [
      "0 1 2 3 4 5 6 7 8 9 "
     ]
    }
   ],
   "source": [
    "# Usando a função range, observe que o intervalo começa com 0 e só vai até 9\n",
    "for i in range(10):\n",
    "    print(i, end=' ')"
   ]
  },
  {
   "cell_type": "code",
   "execution_count": 36,
   "metadata": {},
   "outputs": [
    {
     "name": "stdout",
     "output_type": "stream",
     "text": [
      "10 11 12 13 14 15 16 17 18 19 "
     ]
    }
   ],
   "source": [
    "# Podemos especificar o início e o fim\n",
    "for i in range(10, 20):\n",
    "    print(i, end=' ')"
   ]
  },
  {
   "cell_type": "code",
   "execution_count": 39,
   "metadata": {},
   "outputs": [
    {
     "name": "stdout",
     "output_type": "stream",
     "text": [
      "10 12 14 16 18 "
     ]
    }
   ],
   "source": [
    "# Podemos pular acrescentando um terceiro valor\n",
    "for i in range(10, 20, 2):\n",
    "    print(i, end=' ')"
   ]
  },
  {
   "cell_type": "code",
   "execution_count": 42,
   "metadata": {},
   "outputs": [
    {
     "name": "stdout",
     "output_type": "stream",
     "text": [
      "20 18 16 14 12 10 8 6 4 2 "
     ]
    }
   ],
   "source": [
    "for i in range(20, 0, -2):\n",
    "    print(i, end=' ')"
   ]
  },
  {
   "cell_type": "code",
   "execution_count": 20,
   "metadata": {},
   "outputs": [
    {
     "name": "stdout",
     "output_type": "stream",
     "text": [
      "1 2 3 4 5 6 7 8 9 "
     ]
    }
   ],
   "source": [
    "# Printa cada caracter de uma string passada direto ou por uma variável\n",
    "for numeros in \"123456789\":\n",
    "    print(numeros, end=' ')"
   ]
  },
  {
   "cell_type": "code",
   "execution_count": 21,
   "metadata": {},
   "outputs": [
    {
     "name": "stdout",
     "output_type": "stream",
     "text": [
      "1 2 3 4 5 6 7 8 9 Fim\n"
     ]
    }
   ],
   "source": [
    "# Podemos usar um else\n",
    "for numeros in \"123456789\":\n",
    "    print(numeros, end=' ')\n",
    "else:\n",
    "    print(\"Fim\")"
   ]
  },
  {
   "cell_type": "code",
   "execution_count": 24,
   "metadata": {},
   "outputs": [
    {
     "name": "stdout",
     "output_type": "stream",
     "text": [
      "0 1 2 3 4 5 6 "
     ]
    }
   ],
   "source": [
    "# Podemos usar o break\n",
    "for numeros in range(0, 10):\n",
    "    print(numeros, end=' ')\n",
    "    if numeros >= 6:\n",
    "        break"
   ]
  },
  {
   "cell_type": "code",
   "execution_count": 27,
   "metadata": {},
   "outputs": [
    {
     "name": "stdout",
     "output_type": "stream",
     "text": [
      "Amanda Valentina Veronica \n",
      "Finalizado\n"
     ]
    }
   ],
   "source": [
    "# For com base em uma lista\n",
    "for nomes in ['Amanda', 'Valentina', 'Veronica']:\n",
    "    print(nomes, end=' ')\n",
    "print()\n",
    "print(\"Finalizado\")"
   ]
  },
  {
   "cell_type": "code",
   "execution_count": 28,
   "metadata": {},
   "outputs": [
    {
     "name": "stdout",
     "output_type": "stream",
     "text": [
      "[2, 5, 76, 8, 9, 32, 22, 56, 85]\n"
     ]
    }
   ],
   "source": [
    "# Enumerate - Queremos exibir os números e seus índices ao mesmo tempo\n",
    "numeros=[2,5,76,8,9,32,22,56,85]\n",
    "print(numeros)"
   ]
  },
  {
   "cell_type": "code",
   "execution_count": 29,
   "metadata": {},
   "outputs": [
    {
     "name": "stdout",
     "output_type": "stream",
     "text": [
      "0 2\n",
      "1 5\n",
      "2 76\n",
      "3 8\n",
      "4 9\n",
      "5 32\n",
      "6 22\n",
      "7 56\n",
      "8 85\n"
     ]
    }
   ],
   "source": [
    "# Exibindo da forma tradicional\n",
    "i=0\n",
    "for num in numeros:\n",
    "    print(i,num)\n",
    "    i+=1"
   ]
  },
  {
   "cell_type": "code",
   "execution_count": 43,
   "metadata": {},
   "outputs": [
    {
     "name": "stdout",
     "output_type": "stream",
     "text": [
      "0 2\n",
      "1 5\n",
      "2 76\n",
      "3 8\n",
      "4 9\n",
      "5 32\n",
      "6 22\n",
      "7 56\n",
      "8 85\n"
     ]
    }
   ],
   "source": [
    "# Usando enumerate\n",
    "for i, num in enumerate(numeros):\n",
    "    print(i,num)"
   ]
  },
  {
   "cell_type": "code",
   "execution_count": 48,
   "metadata": {},
   "outputs": [
    {
     "name": "stdout",
     "output_type": "stream",
     "text": [
      "2 8\n",
      "2 20\n",
      "2 1\n",
      "6 8\n",
      "6 20\n",
      "6 1\n",
      "5 8\n",
      "5 20\n",
      "5 1\n"
     ]
    }
   ],
   "source": [
    "# Imprime o conteúdo de 2 listas\n",
    "lista1 = [2,6,5]\n",
    "lista2 = [8,20,1]\n",
    "\n",
    "for i in lista1:\n",
    "    for j in lista2:\n",
    "        print(i, j)"
   ]
  },
  {
   "cell_type": "markdown",
   "metadata": {},
   "source": [
    "## Exercícios"
   ]
  },
  {
   "cell_type": "code",
   "execution_count": 52,
   "metadata": {},
   "outputs": [
    {
     "name": "stdout",
     "output_type": "stream",
     "text": [
      "Digite um número: 4\n",
      "1 x 4 = 4\n",
      "2 x 4 = 8\n",
      "3 x 4 = 12\n",
      "4 x 4 = 16\n",
      "5 x 4 = 20\n",
      "6 x 4 = 24\n",
      "7 x 4 = 28\n",
      "8 x 4 = 32\n",
      "9 x 4 = 36\n"
     ]
    }
   ],
   "source": [
    "# Tabuada\n",
    "num = int(input('Digite um número: '))\n",
    "for i in range(1, 10):\n",
    "    print(f'{i} x {num} = {i*num}')"
   ]
  },
  {
   "cell_type": "code",
   "execution_count": 53,
   "metadata": {},
   "outputs": [
    {
     "name": "stdout",
     "output_type": "stream",
     "text": [
      "7\n",
      "1\n",
      "2\n",
      "1\n",
      "8\n",
      "10\n",
      "1\n",
      "4\n",
      "2\n"
     ]
    }
   ],
   "source": [
    "# Números aleatórios\n",
    "from random import randint\n",
    "\n",
    "qtd = 10\n",
    "for i in range(1, qtd):\n",
    "    print(randint(1, 10))"
   ]
  },
  {
   "cell_type": "markdown",
   "metadata": {},
   "source": [
    "## Fim"
   ]
  }
 ],
 "metadata": {
  "kernelspec": {
   "display_name": "Python 3",
   "language": "python",
   "name": "python3"
  },
  "language_info": {
   "codemirror_mode": {
    "name": "ipython",
    "version": 3
   },
   "file_extension": ".py",
   "mimetype": "text/x-python",
   "name": "python",
   "nbconvert_exporter": "python",
   "pygments_lexer": "ipython3",
   "version": "3.7.6"
  }
 },
 "nbformat": 4,
 "nbformat_minor": 4
}
