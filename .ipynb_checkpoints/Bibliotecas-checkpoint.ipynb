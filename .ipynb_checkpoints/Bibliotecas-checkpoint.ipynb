{
 "cells": [
  {
   "cell_type": "markdown",
   "metadata": {},
   "source": [
    "## Bibliotecas"
   ]
  },
  {
   "cell_type": "code",
   "execution_count": null,
   "metadata": {},
   "outputs": [],
   "source": [
    "import random #para importar usamos o import, no caso é a random que já vem na linguagem, mas a grande maioria precisa ser instalada"
   ]
  },
  {
   "cell_type": "code",
   "execution_count": 465,
   "metadata": {},
   "outputs": [
    {
     "data": {
      "text/plain": [
       "15"
      ]
     },
     "execution_count": 465,
     "metadata": {},
     "output_type": "execute_result"
    }
   ],
   "source": [
    "a = 10\n",
    "random.randint(1, 100) #gera número aleatório dentro do intervalo - vamos usar muito"
   ]
  },
  {
   "cell_type": "code",
   "execution_count": 467,
   "metadata": {},
   "outputs": [],
   "source": [
    "import urllib.request #requisições de páginas web"
   ]
  },
  {
   "cell_type": "code",
   "execution_count": 470,
   "metadata": {},
   "outputs": [
    {
     "data": {
      "text/plain": [
       "'<!DOCTYPE html>\\n<html>\\n\\n  <head>\\n\\n    <meta charset=\"utf-8\">\\n    <meta http-equiv=\"X-UA-Compatible\" content=\"IE=edge\">\\n    <meta name=\"viewport\" content=\"width=device-width, initial-scale=1\">\\n    <meta name=\"description\" content=\"\">\\n    <meta name=\"author\" content=\"\">\\n\\n    <title>Project Jupyter | Home</title>\\n    <meta property=\"og:title\" content=\"Project Jupyter\" />\\n    <meta property=\"og:description\" content=\"The Jupyter Notebook is a web-based interactive computing platform. The notebook combines live code, equations, narrative text, visualizations, interactive dashboards and other media.\\n\">\\n    <meta property=\"og:url\" content=\"https://www.jupyter.org\" />\\n    <meta property=\"og:image\" content=\"https://jupyter.org/assets/homepage.png\" />\\n    <!-- Bootstrap Core CSS -->\\n    <link rel=\"stylesheet\" href=\"/css/bootstrap.min.css\">\\n    <link rel=\"stylesheet\" href=\"/css/logo-nav.css?1571447019465087979\">\\n    <link rel=\"stylesheet\" href=\"/css/cardlist.css\">\\n    <link rel=\"stylesheet\" href=\"/css/github-buttons.css\">\\n    <link rel=\"stylesheet\" href=\"/css/markdown_page.css\">\\n    <link rel=\"stylesheet\" href=\"/css/about.css\">\\n    <link rel=\"icon\" type=\"image/png\" href=\"favicon.ico\" />\\n    <link href=\"/assets/apple-touch-icon.png\" rel=\"apple-touch-icon\" />\\n    <link href=\"/assets/apple-touch-icon-76x76.png\" rel=\"apple-touch-icon\" sizes=\"76x76\" />\\n    <link href=\"/assets/apple-touch-icon-120x120.png\" rel=\"apple-touch-icon\" sizes=\"120x120\" />\\n    <link href=\"/assets/apple-touch-icon-152x152.png\" rel=\"apple-touch-icon\" sizes=\"152x152\" />\\n    <link href=\"/assets/apple-touch-icon-180x180.png\" rel=\"apple-touch-icon\" sizes=\"180x180\" />\\n    <link href=\"/assets/icon-hires.png\" rel=\"icon\" sizes=\"192x192\" />\\n    <link href=\"/assets/icon-normal.png\" rel=\"icon\" sizes=\"128x128\" />\\n    <link rel=\"canonical\" href=\"https://jupyter.org/\">\\n\\n    <!-- HTML5 Shim and Respond.js IE8 support of HTML5 elements and media queries -->\\n    <!-- WARNING: Respond.js doesn\\'t work if you view the page via file:// -->\\n    <!--[if lt IE 9]>\\n        <script src=\"https://oss.maxcdn.com/libs/html5shiv/3.7.0/html5shiv.js\"></script>\\n        <script src=\"https://oss.maxcdn.com/libs/respond.js/1.4.2/respond.min.js\"></script>\\n    <![endif]-->\\n    <script src=\"//use.typekit.net/kpd5yrh.js\"></script>\\n    <script>try{Typekit.load();}catch(e){}</script>\\n    <script>\\n      (function(i,s,o,g,r,a,m){i[\\'GoogleAnalyticsObject\\']=r;i[r]=i[r]||function(){\\n      (i[r].q=i[r].q||[]).push(arguments)},i[r].l=1*new Date();a=s.createElement(o),\\n      m=s.getElementsByTagName(o)[0];a.async=1;a.src=g;m.parentNode.insertBefore(a,m)\\n      })(window,document,\\'script\\',\\'//www.google-analytics.com/analytics.js\\',\\'ga\\');\\n\\n      ga(\\'create\\', \\'UA-52617120-1\\', \\'auto\\', {\\'storage\\': \\'none\\'});\\n      ga(\\'set\\', \\'anonymizeIp\\', true);\\n      ga(\\'send\\', \\'pageview\\');\\n\\n    </script>\\n    <script>console.log(\\'Welcome to Project Jupyter! Explore the various tools available and their corresponding documentation. If you are interested in contributing to the platform, please visit the community resources section at https://jupyter.org/community.html.\\')</script>\\n</head>\\n\\n\\n  <body>\\n\\n    <nav class=\"navbar navbar-fixed-top\" role=\"navigation\" id=\"navbar\" >\\n        <div class=\"navbar-inner\">\\n        <div class=\"container\">\\n            <!-- Brand and toggle get grouped for better mobile display -->\\n            <div class=\"navbar-header\">\\n                <button type=\"button\" class=\"navbar-toggle\" data-toggle=\"collapse\" data-target=\"#bs-example-navbar-collapse-1\">\\n                    <span class=\"sr-only\">Toggle navigation</span>\\n                    \\n                      <span class=\"icon-bar white-icon-bar\"></span>\\n                      <span class=\"icon-bar white-icon-bar\"></span>\\n                      <span class=\"icon-bar white-icon-bar\"></span>\\n                    \\n                </button>\\n                <a class=\"navbar-brand\" href=\"/index.html\">\\n                    <img id=\"jupyter-nav-logo\" class=\"navbar-logo\" src=\"/assets/nav_logo.svg\" alt=\"Jupyter logo\">\\n                </a>\\n            </div>\\n            <div class=\"blur\"></div>\\n            <!-- Collect the nav links, forms, and other content for toggling -->\\n            <div class=\"collapse navbar-collapse\" id=\"bs-example-navbar-collapse-1\">\\n                <ul class=\"nav navbar-nav navbar-right\">\\n                               <li>\\n                                 <a href=\"/install\" class=\"tab\">Install</a>\\n                               </li>\\n                               <li>\\n                                   <a href=\"/about\" class=\"tab\">About Us</a>\\n                               </li>\\n                               <li>\\n                                 <a href=\"/community\" class=\"tab\">Community</a>\\n                               </li>\\n                               <li>\\n                                   <a href=\"/documentation\" class=\"tab\">Documentation</a>\\n                               </li>\\n                               <li>\\n                                 <a href=\"https://nbviewer.jupyter.org\" class=\"tab\" target=\"_blank\">NBViewer</a>\\n                               </li>\\n                               <li>\\n                                   <a href=\"/hub\" class=\"tab\">JupyterHub</a>\\n                               </li>\\n                               <li>\\n                                   <a href=\"/widgets\" class=\"tab\">Widgets</a>\\n                               </li>\\n                               <li>\\n                                 <a href=\"https://blog.jupyter.org\" class=\"tab\" target=\"_blank\">Blog</a>\\n                               </li>\\n                </ul>\\n            </div>\\n            <!-- /.navbar-collapse -->\\n        </div>\\n        <!-- /.container -->\\n    </div>\\n</nav>\\n\\n    <section>\\n    <section>\\n    <div class=\"jumbotron\">\\n        <div class=\"row\">\\n            <div class=\"col-md-12\">\\n                <div class=\"img-container\">\\n                    <span><img class=\"img-responsive fade-in one\" src=\"assets/circle1.svg\" alt=\"circle of programming language icons\"></span>\\n                </div>\\n                <div class=\"img-container\">\\n                    <span><img class=\"img-responsive fade-in two\" src=\"assets/circle2.svg\" alt=\"circle of programming language icons\"></span>\\n                </div>\\n                <div class=\"img-container\">\\n                    <span><img class=\"img-responsive fade-in three\" src=\"assets/circle3.svg\" alt=\"circle of programming language icons\"></span>\\n                </div>\\n                <div class=\"img-container\">\\n                    <img class=\"img-responsive\" id=\"main-logo\" src=\"assets/main-logo.svg\" alt=\"jupyter logo\">\\n                </div>\\n                <img class=\"img-responsive\" src=\"assets/white-background.svg\" alt=\"white background\">\\n            </div>\\n        </div>\\n    </div>\\n    <div class=\"container\">\\n        <div class=\"row\">\\n            <div class=\"col-md-12\">\\n                <div class=\"col-md-8 col-md-offset-2\">\\n                <h4 class=\"jumbotron-text\">Project Jupyter exists to develop open-source software, open-standards,\\n                    and services for interactive computing across dozens of programming languages.</h4>\\n                </div>\\n             </div>\\n        </div>\\n    </div>\\n</section>\\n<section id=\"jupyterlab\">\\n    <div class=\"section-grey\">\\n        <div class=\"lab-preview\">\\n            <div class=\"container\">\\n                <div class=\"row\">\\n                    <div class=\"col-md-6\">\\n                        <img class=\"img-responsive\" src=\"assets/labpreview.png\" id=\"portal\" alt=\"examples of jupyterlab workspaces in single document and multiple document workspaces\"/>\\n                    </div>\\n                    <div class=\"col-md-6 nb-highlight-text\">\\n                        <h3>JupyterLab 1.0: Jupyter’s Next-Generation Notebook Interface</h3>\\n                        <h4 class=\"nb-desc\">JupyterLab is a web-based interactive development environment for Jupyter notebooks, code, and data. JupyterLab is flexible: configure and arrange the user interface to support a wide range of workflows in data science, scientific computing, and machine learning. JupyterLab is extensible and modular: write plugins that add new components and integrate with existing ones.</h4>\\n                        <div class=\"button-container\">\\n                            <a class=\"orange-button\" href=\"try\">Try it in your browser</a>\\n                            <a class=\"orange-button install-button\" href=\"install.html\">Install JupyterLab</a>\\n                        </div>\\n                    </div>\\n                </div>\\n            </div>\\n        </div>\\n    </div>\\n</section>\\n<section id=\"about-notebook\">\\n    <div class=\"section-white\">\\n        <div class=\"notebook-preview\">\\n            <div class=\"container\">\\n                <div class=\"row\">\\n                    <div class=\"col-md-6\">\\n                        <img class=\"img-responsive\" src=\"assets/jupyterpreview.png\" id=\"portal\" alt=\"example notebook of Lorenz differential equations\"/>\\n                    </div>\\n                    <div class=\"col-md-6 nb-highlight-text\">\\n                        <h3>The Jupyter Notebook</h3>\\n                        <h4 class=\"nb-desc\">The Jupyter Notebook is an open-source web application that allows you to create and share\\n                            documents that contain live code, equations, visualizations and narrative text. Uses include: data cleaning\\n                            and transformation, numerical simulation, statistical modeling, data visualization, machine learning, and much more.</h4>\\n                        <div class=\"button-container\">\\n                            <a class=\"orange-button\" href=\"try\">Try it in your browser</a>\\n                            <a class=\"orange-button install-button\" href=\"install.html\">Install the Notebook</a>\\n                        </div>\\n                    </div>\\n                </div>\\n            </div>\\n        </div>\\n        <div class=\"notebook-features\">\\n            <div class=\"container\">\\n                <div class=\"row\">\\n                    <div class=\"col-md-3 notebook-feature\">\\n                        <img class=\"img-responsive language\" src=\"assets/language.svg\" id=\"feature\" alt=\"icon to represent a language\">\\n                        <h4>Language of choice</h4>\\n                        <p>Jupyter supports over 40 programming languages, including Python, R, Julia, and Scala.</p>\\n                    </div>\\n                    <div class=\"col-md-3 notebook-feature\">\\n                        <img class=\"img-responsive share\" src=\"assets/share.svg\" alt=\"icon to represent sharing a notebook\">\\n                        <h4>Share notebooks</h4>\\n                        <p> Notebooks can be shared with others using email, Dropbox, GitHub and the <a href=\"https://nbviewer.jupyter.org/\">Jupyter Notebook Viewer</a>.</p>\\n                    </div>\\n                    <div class=\"col-md-3 notebook-feature\">\\n                        <img class=\"img-responsive widget\" src=\"assets/widget.svg\" alt=\"icon to represent an interactive widget\">\\n                        <h4>Interactive output</h4>\\n                        <p>Your code can produce rich, interactive output: HTML, images, videos, LaTeX, and custom MIME types.</p>\\n                    </div>\\n                    <div class=\"col-md-3 notebook-feature\">\\n                        <img class=\"img-responsive data\" src=\"assets/spark.svg\" alt=\"spark logo to represent big data\">\\n                        <h4> Big data integration</h4>\\n                        <p>Leverage big data tools, such as Apache Spark, from Python, R and Scala. Explore that same data with pandas, scikit-learn, ggplot2, TensorFlow.</p>\\n                    </div>\\n                </div>\\n            </div>\\n        </div>\\n    </div>\\n</section>\\n<section id=\"jupyterhub\">\\n    <div class=\"section-grey\">\\n        <div class=\"container\">\\n            <div class=\"row\">\\n            <div>\\n                <div class=\"hublogo col-md-offset-4 col-md-4 col-md-offset-4\">\\n                    <img src=\"assets/hublogo.svg\" class=\"img-responsive\" style=\"margin:0 auto;\" id=\"hublogo\" alt=\"jupyterhub logo\">\\n                </div>\\n                <div class=\"col-md-offset-3 col-md-6 col-md-offset-3\" style=\"margin-bottom:-36px\">\\n                    <p style=\"padding-top:24px; text-align: center\">A multi-user version of the notebook designed for companies, classrooms and research labs</p>\\n                </div>\\n            </div>\\n            <div class=\"hubfeatures col-md-12\">\\n                <div class=\"feature1 hubfeature col-md-3 authentication\">\\n                    <img src=\"assets/authentication.svg\" class=\"img-responsive\" alt=\"authentication icon\">\\n                    <h4>Pluggable authentication</h4>\\n                    <p>Manage users and authentication with PAM, OAuth or integrate with your own directory service system.</p>\\n                </div>\\n                <div class=\"feature-middle hubfeature col-md-3\">\\n                    <img src=\"assets/central.svg\" class=\"img-responsive\" alt=\"icon to represent centralized deployment\">\\n                    <h4>Centralized deployment</h4>\\n                    <p>Deploy the Jupyter Notebook to thousands of users in your organization on centralized infrastructure on- or off-site.</p>\\n                </div>\\n                <div class=\"feature-middle hubfeature col-md-3\">\\n                    <img src=\"assets/container.svg\" class=\"img-responsive\" alt=\"container icon\">\\n                    <h4>Container friendly</h4>\\n                    <p>Use Docker and Kubernetes to scale your deployment, isolate user processes, and simplify software installation.</p>\\n                </div>\\n                <div class=\"feature4 hubfeature col-md-3\">\\n                    <img src=\"assets/data.svg\" class=\"img-responsive\" id=\"data\" alt=\"icon to represent data\">\\n                    <h4>Code meets data</h4>\\n                    <p>Deploy the Notebook next to your data to provide unified software management and data access within your organization.</p>\\n                </div>\\n            </div>\\n            <div class=\"col-md-12\" style=\"text-align: center; margin-top: 24px;\">\\n                <a class=\"orange-button\" href=\"https://github.com/jupyter/jupyterhub\">Learn more about JupyterHub</a>\\n            </div>\\n            </div>\\n        </div>\\n    </div>\\n</section>\\n<section id=\"current-use\">\\n    <div class=\"section-white\">\\n        <div class=\"container\">\\n            <div class=\"row\">\\n                <h3 class=\"section-header\">Currently in use at</h3>\\n                <ul class=\"companies\">\\n                    <li class=\"col\"><a href=\"https://www.google.com\"><img src=\"assets/google.svg\" class=\"greydout\" alt=\"Google\"></a></li>\\n                    <li class=\"col\"><a href=\"https://www.microsoft.com\"><img src=\"assets/Microsoft.svg\" class=\"greydout\" alt=\"Microsoft\"></a></li>\\n                    <li class=\"col\"><a href=\"https://www.ibm.com\"><img src=\"assets/IBM.svg\" class=\"greydout\" alt=\"IBM\"></a></li>\\n                    <li class=\"col\"><a href=\"https://www.bloomberg.com\"><img src=\"assets/bloomberg.svg\" class=\"greydout\" alt=\"Bloomberg\"></a></li>\\n                    <li class=\"col\"><a href=\"https://www.oreilly.com\"><img src=\"assets/oreilly.svg\" class=\"greydout\" alt=\"OReilly\"></a></li>\\n                    <li class=\"col\"><a href=\"https://www.anaconda.com/\"><img src=\"assets/anaconda.svg\" class=\"greydout\" alt=\"Anaconda\"></a></li>\\n                    <li class=\"col\"><a href=\"https://developer.rackspace.com\"><img src=\"assets/rackspace.svg\" class=\"greydout\" alt=\"Rackspace\"></a></li>\\n                    <li class=\"col\"><a href=\"https://www.soundcloud.com\"><img src=\"assets/soundcloud.svg\" class=\"greydout\" alt=\"SoundCloud\"></a></li>\\n                    <li class=\"col\"><a href=\"https://www.quantopian.com/\"><img src=\"assets/quantopian.svg\" class=\"greydout\" alt=\"Quantopian\"></a></li>\\n                    <li class=\"col\"><a href=\"https://www.netapp.com/us/\"><img src=\"assets/netapp.svg\" class=\"greydout\" alt=\"NetApp\"></a></li>\\n                    <li class=\"col\"><a href=\"https://software-carpentry.org\"><img src=\"assets/carpentry.svg\" class=\"greydout\" alt=\"Carpentry\"></a></li>\\n                    <li class=\"col\"><a href=\"https://www.janelia.org/\"><img src=\"assets/janelia.svg\" class=\"greydout\" alt=\"Janelia\"></a></li>\\n                    <li class=\"col\"><a href=\"https://codeneuro.org/\"><img src=\"assets/codeneuro.svg\" class=\"greydout\" alt=\"CodeNeuro\"></a></li>\\n                    <li class=\"col\"><a href=\"\"><img src=\"assets/nsite.svg\" class=\"greydout\" alt=\"NSite\"></a></li>\\n                    <li class=\"col\"><a href=\"https://cocalc.com/\"><img src=\"assets/cocalc.svg\" class=\"greydout\" alt=\"CoCalc\"></a></li>\\n                    <li class=\"col\"><a href=\"https://www.brynmawr.edu\"><img src=\"assets/brynmawr.svg\" class=\"greydout\" alt=\"BrynMawr\"></a></li>\\n                    <li class=\"col\"><a href=\"https://www.calpoly.edu\"><img src=\"assets/calpoly.svg\" class=\"greydout\" alt=\"CalPoly\"></a></li>\\n                    <li class=\"col\"><a href=\"https://www.berkeley.edu\"><img src=\"assets/Berkeley.svg\" class=\"greydout\" alt=\"Berkeley\"></a></li>\\n                    <li class=\"col\"><a href=\"https://www.sheffield.ac.uk/\"><img src=\"assets/sheffield.svg\" class=\"greydout\" alt=\"Sheffield\"></a></li>\\n                    <li class=\"col\"><a href=\"https://www.gwu.edu/\"><img src=\"assets/washington.svg\" class=\"greydout\" alt=\"Washington\"></a></li>\\n                    <li class=\"col\"><a href=\"https://www.clemson.edu/\"><img src=\"assets/clemson.svg\" class=\"greydout\" alt=\"Clemson\"></a></li>\\n                    <li class=\"col\"><a href=\"https://msu.edu/\"><img src=\"assets/michigan-state.svg\" class=\"greydout\" alt=\"Michigan State University\"></a></li>\\n                    <li class=\"col\"><a href=\"https://www.northwestern.edu/\"><img src=\"assets/northwestern.svg\" class=\"greydout\" alt=\"Northwestern University\"></a></li>\\n                    <li class=\"col\"><a href=\"https://www.nyu.edu\"><img src=\"assets/NYU.svg\" class=\"greydout\" alt=\"NYU\"></a></li>\\n                    <li class=\"col\"><a href=\"https://www.nasa.gov\"><img src=\"assets/NASA.svg\" class=\"greydout\" alt=\"NASA\"></a></li>\\n                    <li class=\"col\"><a href=\"https://ayasdi.com\"><img src=\"assets/ayasdi.svg\" class=\"greydout\" alt=\"Ayasdi\"></a></li>\\n                    <li class=\"col\"><a href=\"https://www.thedataincubator.com\"><img src=\"assets/tdi.svg\" class=\"greydout\" alt=\"The Data Incubator\"></a></li>\\n                </ul>\\n            </div>\\n        </div>\\n    </div>\\n</section>\\n<section id=\"architecture\">\\n    <div class=\"section-grey\">\\n        <div class=\"container\">\\n            <div class=\"architecturedescription\">\\n                <img src=\"assets/architectureicon2.svg\" class=\"section-icon\" alt=\"icon to represent jupyter architecture\">\\n                <h3 class=\"section-header\">Open Standards for Interactive Computing</h3>\\n                <h4 class=\"support-paragraph\">The Jupyter Notebook is based on a set of open standards for interactive computing. Think HTML and CSS for interactive computing on the web. These open standards can be leveraged by third party developers to build customized applications with embedded interactive computing.</h4>\\n            </div>\\n            <div class=\"architecturecontent row\">\\n                <div class=\"col-sm-6 col-md-4\">\\n                    <div class=\"card\">\\n                        <div class=\"arcfeature\" id=\"arcfeature1\">\\n                            <div class=\"front front1\">\\n                                <img src=\"assets/notebook-format.svg\" alt=\"icon to represent notebook format\">\\n                                <a class=\"arc-button bt\">Learn more</a>\\n                            </div>\\n                            <div class=\"front front1 flipped content-back\">\\n                                <h3>The Notebook Document Format</h3>\\n                                <p id=\"document\">Jupyter Notebooks are an open document format based on JSON. They contain a complete record of the user\\'s sessions and include code, narrative text, equations and rich output. </p>\\n                                <a class=\"arc-button bt\">Go back</a>\\n                            </div>\\n                        </div>\\n                    </div>\\n                </div>\\n                <div class=\"col-sm-6 col-md-4\">\\n                    <div class=\"card\">\\n                        <div class=\"arcfeature\" id=\"protocol\">\\n                            <div class=\"front front2\">\\n                                <img src=\"assets/protocol.svg\" alt=\"icon to represent a protocol\">\\n                                <a class=\"arc-button bt1\">Learn more</a>\\n                            </div>\\n                            <div class=\"front front2 flipped content-back\">\\n                                <h3>Interactive Computing Protocol</h3>\\n                                <p>The Notebook communicates with computational Kernels using the Interactive Computing Protocol, an open network protocol based on JSON data over ZMQ and WebSockets.</p>\\n                                <a class=\"arc-button bt1\">Go back</a>\\n                            </div>\\n                        </div>\\n                    </div>\\n                </div>\\n                <div class=\"col-sm-12 col-md-4\">\\n                    <div class=\"card\">\\n                        <div class=\"arcfeature\" id=\"kernel\">\\n                            <div class=\"front front3\">\\n                                <img src=\"assets/kernel.svg\" alt=\"icon that looks like a terminal represents kernel\">\\n                                <a class=\"arc-button bt2\">Learn more</a>\\n                            </div>\\n                            <div class=\"front front3 flipped content-back\">\\n                                <h3>Kernels</h3>\\n                                <p id=\"block3\">Kernels are processes that run interactive code in a particular programming language and return output to the user. Kernels also respond to tab completion and introspection requests.</p>\\n                                <a class=\"arc-button bt2\">Go back</a>\\n                            </div>\\n                        </div>\\n                    </div>\\n                </div>\\n            </div>\\n        </div>\\n    </div>\\n</section>\\n\\n    </section>\\n\\n    <footer>\\n    <div class=\"footer\" role=\"navigation\">\\n        <div class=\"container\">\\n            <div class=\"navbar-text\">\\n                <ul class=\"footer-text\">\\n                    <li><a href=\"/index.html\">Home</a></li>\\n                               <li><a href=\"/install\" target=\"_blank\">Install</a></li>\\n                               <li><a href=\"/about\">About Us</a></li>\\n                               <li><a href=\"/community\" target=\"_blank\">Community</a></li>\\n                               <li><a href=\"/documentation\">Documentation</a></li>\\n                               <li><a href=\"https://nbviewer.jupyter.org\" target=\"_blank\">NBViewer</a></li>\\n                               <li><a href=\"/hub\">JupyterHub</a></li>\\n                               <li><a href=\"/widgets\">Widgets</a></li>\\n                               <li><a href=\"https://blog.jupyter.org\" target=\"_blank\">Blog</a></li>\\n                    <!--2019-10-19 01:03:39 +0000-->\\n                </ul>\\n                <p>Copyright © 2019  Project Jupyter –\\n                Last updated Sat, Oct 19, 2019</p>\\n                <p>The Jupyter Trademark is registered with the U.S. Patent &amp; Trademark Office.</p>\\n            </div>\\n            <div class=\"follow\">\\n                <a href=\"https://github.com/jupyter\" class=\"button github-button\" aria-label=\"Follow @jupyter on GitHub\"><svg version=\"1.1\" width=\"14\" height=\"14\" viewBox=\"0 0 16 16\" class=\"octicon octicon-mark-github\" aria-hidden=\"true\"><path fill-rule=\"evenodd\" d=\"M8 0C3.58 0 0 3.58 0 8c0 3.54 2.29 6.53 5.47 7.59.4.07.55-.17.55-.38 0-.19-.01-.82-.01-1.49-2.01.37-2.53-.49-2.69-.94-.09-.23-.48-.94-.82-1.13-.28-.15-.68-.52-.01-.53.63-.01 1.08.58 1.23.82.72 1.21 1.87.87 2.33.66.07-.52.28-.87.51-1.07-1.78-.2-3.64-.89-3.64-3.95 0-.87.31-1.59.82-2.15-.08-.2-.36-1.02.08-2.12 0 0 .67-.21 2.2.82.64-.18 1.32-.27 2-.27.68 0 1.36.09 2 .27 1.53-1.04 2.2-.82 2.2-.82.44 1.1.16 1.92.08 2.12.51.56.82 1.27.82 2.15 0 3.07-1.87 3.75-3.65 3.95.29.25.54.73.54 1.48 0 1.07-.01 1.93-.01 2.2 0 .21.15.46.55.38A8.013 8.013 0 0 0 16 8c0-4.42-3.58-8-8-8z\"></path></svg> <span>Follow @jupyter</span></a>\\n                <br><a href=\"https://twitter.com/ProjectJupyter\" class=\"twitter-follow-button\" data-show-count=\"false\">Follow @ProjectJupyter</a>\\n            </div>\\n        </div>\\n    </div>\\n</footer>\\n\\n    <!-- jQuery -->\\n    <script src=\"/js/jquery.js\"></script>\\n\\n    <!-- Bootstrap Core JavaScript -->\\n    <script src=\"/js/bootstrap.min.js\"></script>\\n    <script src=\"/js/architecture.js\"></script>\\n    <script src=\"/js/simon.js\"></script>\\n    <script>!function(d,s,id){var js,fjs=d.getElementsByTagName(s)[0],p=/^https:/.test(d.location)?\\'https\\':\\'http\\';if(!d.getElementById(id)){js=d.createElement(s);js.id=id;js.src=p+\\'://platform.twitter.com/widgets.js\\';fjs.parentNode.insertBefore(js,fjs);}}(document, \\'script\\', \\'twitter-wjs\\');</script>\\n\\n\\n  </body>\\n\\n</html>\\n'"
      ]
     },
     "execution_count": 470,
     "metadata": {},
     "output_type": "execute_result"
    }
   ],
   "source": [
    "page = urllib.request.urlopen(\"https://jupyter.org/\")\n",
    "text = page.read().decode(\"utf8\")\n",
    "text"
   ]
  },
  {
   "cell_type": "code",
   "execution_count": 3,
   "metadata": {},
   "outputs": [],
   "source": [
    "#tempo - data e hora\n",
    "import time\n",
    "import datetime"
   ]
  },
  {
   "cell_type": "code",
   "execution_count": 482,
   "metadata": {},
   "outputs": [
    {
     "data": {
      "text/plain": [
       "time.struct_time(tm_year=2019, tm_mon=10, tm_mday=20, tm_hour=22, tm_min=53, tm_sec=41, tm_wday=6, tm_yday=293, tm_isdst=0)"
      ]
     },
     "execution_count": 482,
     "metadata": {},
     "output_type": "execute_result"
    }
   ],
   "source": [
    "time.localtime()"
   ]
  },
  {
   "cell_type": "code",
   "execution_count": 484,
   "metadata": {},
   "outputs": [
    {
     "name": "stdout",
     "output_type": "stream",
     "text": [
      "2019-10-20\n"
     ]
    }
   ],
   "source": [
    "datahora = datetime.datetime(2019, 10, 20, 10,21)\n",
    "print(datahora.date())"
   ]
  },
  {
   "cell_type": "code",
   "execution_count": 490,
   "metadata": {},
   "outputs": [],
   "source": [
    "#Executando comandos direto no sistema operacional\n",
    "import os"
   ]
  },
  {
   "cell_type": "code",
   "execution_count": 1,
   "metadata": {},
   "outputs": [],
   "source": [
    "import emoji"
   ]
  },
  {
   "cell_type": "code",
   "execution_count": 2,
   "metadata": {},
   "outputs": [
    {
     "data": {
      "text/plain": [
       "'Olá mundo 🌎'"
      ]
     },
     "execution_count": 2,
     "metadata": {},
     "output_type": "execute_result"
    }
   ],
   "source": [
    "emoji.emojize('Olá mundo :earth_americas:', use_aliases=True)"
   ]
  },
  {
   "cell_type": "code",
   "execution_count": 3,
   "metadata": {},
   "outputs": [
    {
     "name": "stdout",
     "output_type": "stream",
     "text": [
      "pygame 1.9.6\n",
      "Hello from the pygame community. https://www.pygame.org/contribute.html\n"
     ]
    },
    {
     "data": {
      "text/plain": [
       "(6, 0)"
      ]
     },
     "execution_count": 3,
     "metadata": {},
     "output_type": "execute_result"
    }
   ],
   "source": [
    "import pygame\n",
    "pygame.init()"
   ]
  },
  {
   "cell_type": "code",
   "execution_count": 4,
   "metadata": {},
   "outputs": [
    {
     "ename": "error",
     "evalue": "Couldn't open '../Exercicios/alerta.mp3'",
     "output_type": "error",
     "traceback": [
      "\u001b[0;31m---------------------------------------------------------------------------\u001b[0m",
      "\u001b[0;31merror\u001b[0m                                     Traceback (most recent call last)",
      "\u001b[0;32m<ipython-input-4-8454f4349b60>\u001b[0m in \u001b[0;36m<module>\u001b[0;34m\u001b[0m\n\u001b[0;32m----> 1\u001b[0;31m \u001b[0mpygame\u001b[0m\u001b[0;34m.\u001b[0m\u001b[0mmixer\u001b[0m\u001b[0;34m.\u001b[0m\u001b[0mmusic\u001b[0m\u001b[0;34m.\u001b[0m\u001b[0mload\u001b[0m\u001b[0;34m(\u001b[0m\u001b[0;34m'../Exercicios/alerta.mp3'\u001b[0m\u001b[0;34m)\u001b[0m\u001b[0;34m\u001b[0m\u001b[0;34m\u001b[0m\u001b[0m\n\u001b[0m\u001b[1;32m      2\u001b[0m \u001b[0mpygame\u001b[0m\u001b[0;34m.\u001b[0m\u001b[0mmixer\u001b[0m\u001b[0;34m.\u001b[0m\u001b[0mmusic\u001b[0m\u001b[0;34m.\u001b[0m\u001b[0mplay\u001b[0m\u001b[0;34m(\u001b[0m\u001b[0;34m)\u001b[0m\u001b[0;34m\u001b[0m\u001b[0;34m\u001b[0m\u001b[0m\n",
      "\u001b[0;31merror\u001b[0m: Couldn't open '../Exercicios/alerta.mp3'"
     ]
    }
   ],
   "source": [
    "pygame.mixer.music.load('../Exercicios/alerta.mp3')\n",
    "pygame.mixer.music.play()"
   ]
  },
  {
   "cell_type": "code",
   "execution_count": null,
   "metadata": {},
   "outputs": [],
   "source": []
  },
  {
   "cell_type": "markdown",
   "metadata": {},
   "source": [
    "## Fim"
   ]
  }
 ],
 "metadata": {
  "kernelspec": {
   "display_name": "Python 3",
   "language": "python",
   "name": "python3"
  },
  "language_info": {
   "codemirror_mode": {
    "name": "ipython",
    "version": 3
   },
   "file_extension": ".py",
   "mimetype": "text/x-python",
   "name": "python",
   "nbconvert_exporter": "python",
   "pygments_lexer": "ipython3",
   "version": "3.7.6"
  }
 },
 "nbformat": 4,
 "nbformat_minor": 4
}
