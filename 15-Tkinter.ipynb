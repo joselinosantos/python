{
 "cells": [
  {
   "cell_type": "markdown",
   "metadata": {},
   "source": [
    "# Interface gráfica com Tkinter"
   ]
  },
  {
   "cell_type": "markdown",
   "metadata": {},
   "source": [
    "Para exemplo vamos criar uma tela de login"
   ]
  },
  {
   "cell_type": "code",
   "execution_count": 77,
   "metadata": {},
   "outputs": [],
   "source": [
    "from tkinter import *"
   ]
  },
  {
   "cell_type": "code",
   "execution_count": 78,
   "metadata": {},
   "outputs": [],
   "source": [
    "# Instancia da classe\n",
    "janela = Tk()"
   ]
  },
  {
   "cell_type": "code",
   "execution_count": 79,
   "metadata": {},
   "outputs": [
    {
     "data": {
      "text/plain": [
       "''"
      ]
     },
     "execution_count": 79,
     "metadata": {},
     "output_type": "execute_result"
    }
   ],
   "source": [
    "# Tamanho da janela x, y\n",
    "janela.geometry(\"400x250+500+300\") "
   ]
  },
  {
   "cell_type": "code",
   "execution_count": 80,
   "metadata": {},
   "outputs": [
    {
     "data": {
      "text/plain": [
       "''"
      ]
     },
     "execution_count": 80,
     "metadata": {},
     "output_type": "execute_result"
    }
   ],
   "source": [
    "# Título\n",
    "janela.title('Login')"
   ]
  },
  {
   "cell_type": "code",
   "execution_count": 81,
   "metadata": {},
   "outputs": [],
   "source": [
    "# Cores\n",
    "janela['bg']='#888'\n",
    "janela['background'] = '#f2f2f2'"
   ]
  },
  {
   "cell_type": "code",
   "execution_count": 82,
   "metadata": {},
   "outputs": [],
   "source": [
    "# Label - Texto para identificar campos\n",
    "lb_login = Label(janela, text=\"Login\")"
   ]
  },
  {
   "cell_type": "code",
   "execution_count": 83,
   "metadata": {},
   "outputs": [],
   "source": [
    "# Posiciona o label - Place\n",
    "lb_login.place(x=100, y=50) "
   ]
  },
  {
   "cell_type": "code",
   "execution_count": 84,
   "metadata": {},
   "outputs": [],
   "source": [
    "# Caixa de texto - Entry\n",
    "in_login = Entry(janela)"
   ]
  },
  {
   "cell_type": "code",
   "execution_count": 85,
   "metadata": {},
   "outputs": [],
   "source": [
    "in_login.place(x=100, y=80)"
   ]
  },
  {
   "cell_type": "code",
   "execution_count": 86,
   "metadata": {},
   "outputs": [],
   "source": [
    "# Label e caixa de texto para senha\n",
    "lb_senha = Label(janela, text=\"Senha\")\n",
    "lb_senha.place(x=100, y=110)\n",
    "in_senha = Entry(janela)\n",
    "in_senha.place(x=100, y=130)"
   ]
  },
  {
   "cell_type": "code",
   "execution_count": 87,
   "metadata": {},
   "outputs": [],
   "source": [
    "# Botão\n",
    "bt = Button(janela, width=20, text=\"Acessar\")\n",
    "bt.place(x=100, y=180)"
   ]
  },
  {
   "cell_type": "code",
   "execution_count": 88,
   "metadata": {},
   "outputs": [],
   "source": [
    "# Mantém a janela em execução\n",
    "janela.mainloop()"
   ]
  },
  {
   "cell_type": "markdown",
   "metadata": {},
   "source": [
    "# Mensagens"
   ]
  },
  {
   "cell_type": "code",
   "execution_count": 15,
   "metadata": {},
   "outputs": [
    {
     "data": {
      "text/plain": [
       "'ok'"
      ]
     },
     "execution_count": 15,
     "metadata": {},
     "output_type": "execute_result"
    }
   ],
   "source": [
    "from tkinter import messagebox\n",
    "\n",
    "messagebox.showinfo(\"Atenção\", \"Campos vazios!\")\n",
    "messagebox.showwarning(\"Atenção\", \"Dados incorretos!\")\n",
    "messagebox.showerror(\"Atenção\", \"Erro na aplicação!\")"
   ]
  },
  {
   "cell_type": "code",
   "execution_count": 73,
   "metadata": {},
   "outputs": [],
   "source": [
    "# Função para validar\n",
    "def valida():\n",
    "    from tkinter import messagebox\n",
    "    usr = 'admin'\n",
    "    senha = '123'\n",
    "    log_usuario = in_login.get()\n",
    "    log_senha = in_senha.get()\n",
    "    try:\n",
    "        if log_usuario == usr and  log_senha == senha:\n",
    "            messagebox.showinfo(\"Bem vindo\", \"Acesso ao sistema!\")\n",
    "        elif log_usuario == '' or log_senha == '':\n",
    "            messagebox.showinfo(\"Atenção\", \"Campos vazios!\")\n",
    "        else:\n",
    "            messagebox.showwarning(\"Atenção\", \"Dados incorretos!\")\n",
    "    except:\n",
    "        messagebox.showerror(\"Atenção\", \"Erro ao fazer login!\")"
   ]
  },
  {
   "cell_type": "code",
   "execution_count": 74,
   "metadata": {},
   "outputs": [],
   "source": [
    "# Chama ação valida no botão\n",
    "bt = Button(janela, width=20, text=\"Acessar\", command=valida)\n",
    "bt.place(x=100, y=180)"
   ]
  },
  {
   "cell_type": "code",
   "execution_count": 75,
   "metadata": {},
   "outputs": [],
   "source": [
    "janela.mainloop()"
   ]
  },
  {
   "cell_type": "code",
   "execution_count": 13,
   "metadata": {},
   "outputs": [],
   "source": []
  },
  {
   "cell_type": "code",
   "execution_count": 14,
   "metadata": {},
   "outputs": [],
   "source": []
  },
  {
   "cell_type": "code",
   "execution_count": null,
   "metadata": {},
   "outputs": [],
   "source": []
  }
 ],
 "metadata": {
  "kernelspec": {
   "display_name": "Python 3",
   "language": "python",
   "name": "python3"
  },
  "language_info": {
   "codemirror_mode": {
    "name": "ipython",
    "version": 3
   },
   "file_extension": ".py",
   "mimetype": "text/x-python",
   "name": "python",
   "nbconvert_exporter": "python",
   "pygments_lexer": "ipython3",
   "version": "3.7.6"
  }
 },
 "nbformat": 4,
 "nbformat_minor": 4
}
