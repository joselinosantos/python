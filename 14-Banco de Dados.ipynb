{
 "cells": [
  {
   "cell_type": "markdown",
   "metadata": {},
   "source": [
    "# Banco de Dados"
   ]
  },
  {
   "cell_type": "markdown",
   "metadata": {},
   "source": [
    "Até agora vimos como salvar os dados em variáveis e arquivos, é hora de persistir os dados em Bancos."
   ]
  },
  {
   "cell_type": "code",
   "execution_count": 1,
   "metadata": {},
   "outputs": [
    {
     "name": "stdout",
     "output_type": "stream",
     "text": [
      "Requirement already satisfied: pymysql in /home/joselino/anaconda3/lib/python3.7/site-packages (0.9.3)\r\n"
     ]
    }
   ],
   "source": [
    "# Instalando o pymysql\n",
    "!pip install pymysql"
   ]
  },
  {
   "cell_type": "code",
   "execution_count": null,
   "metadata": {},
   "outputs": [],
   "source": [
    "# Prepare o ambiente criando o banco e tabelas\n",
    "# CREATE DATABASE db_sistema;\n",
    "# USE db_sistema;\n",
    "# CREATE TABLE usuarios (usu_id INTEGER AUTO_INCREMENT PRIMARY KEY, usu_usuario VARCHAR(20), usu_senha VARCHAR(15));"
   ]
  },
  {
   "cell_type": "markdown",
   "metadata": {},
   "source": [
    "# SGBD MySQL\n"
   ]
  },
  {
   "cell_type": "code",
   "execution_count": 2,
   "metadata": {},
   "outputs": [],
   "source": [
    "import pymysql"
   ]
  },
  {
   "cell_type": "code",
   "execution_count": 4,
   "metadata": {},
   "outputs": [],
   "source": [
    "# Cria a conexão\n",
    "con = pymysql.connect(host='localhost', user='root', passwd='admin', database='db_sistema')"
   ]
  },
  {
   "cell_type": "code",
   "execution_count": 5,
   "metadata": {},
   "outputs": [],
   "source": [
    "# Cria cursor para manipular os dados\n",
    "cur = con.cursor()"
   ]
  },
  {
   "cell_type": "code",
   "execution_count": 6,
   "metadata": {},
   "outputs": [
    {
     "data": {
      "text/plain": [
       "1"
      ]
     },
     "execution_count": 6,
     "metadata": {},
     "output_type": "execute_result"
    }
   ],
   "source": [
    "# Executa Query - Insere dados\n",
    "cur.execute(\"INSERT INTO usuarios (usu_usuario, usu_senha) VALUES('admin', 'admin')\")"
   ]
  },
  {
   "cell_type": "code",
   "execution_count": 14,
   "metadata": {},
   "outputs": [
    {
     "data": {
      "text/plain": [
       "1"
      ]
     },
     "execution_count": 14,
     "metadata": {},
     "output_type": "execute_result"
    }
   ],
   "source": [
    "# Retorna 1 se contém dados\n",
    "cur.execute('SELECT * FROM usuarios')"
   ]
  },
  {
   "cell_type": "code",
   "execution_count": 17,
   "metadata": {},
   "outputs": [
    {
     "name": "stdout",
     "output_type": "stream",
     "text": [
      "(1, 'admin', 'admin')\n"
     ]
    }
   ],
   "source": [
    "# Lista os dados\n",
    "lista = cur.fetchall()\n",
    "for l in lista:\n",
    "    print(l)"
   ]
  },
  {
   "cell_type": "code",
   "execution_count": 19,
   "metadata": {},
   "outputs": [
    {
     "data": {
      "text/plain": [
       "0"
      ]
     },
     "execution_count": 19,
     "metadata": {},
     "output_type": "execute_result"
    }
   ],
   "source": [
    "# Criar mais tabelas\n",
    "cur.execute('CREATE TABLE IF NOT EXISTS clientes (cli_id INT(5), cli_nome VARCHAR(50), cli_telefone VARCHAR(20), cli_datanasc DATE)')"
   ]
  },
  {
   "cell_type": "code",
   "execution_count": 52,
   "metadata": {},
   "outputs": [
    {
     "data": {
      "text/plain": [
       "1"
      ]
     },
     "execution_count": 52,
     "metadata": {},
     "output_type": "execute_result"
    }
   ],
   "source": [
    "# Inserir dados\n",
    "cur.execute(\"INSERT INTO clientes (cli_id, cli_nome, cli_telefone, cli_datanasc) VALUES (1, 'André', '998876543', '2020-10-12')\")"
   ]
  },
  {
   "cell_type": "markdown",
   "metadata": {},
   "source": [
    "## Otimizando com funções e Pandas"
   ]
  },
  {
   "cell_type": "code",
   "execution_count": 79,
   "metadata": {},
   "outputs": [],
   "source": [
    "# Uma biblioteca fantástica para manipulação de dados\n",
    "import pandas as pd"
   ]
  },
  {
   "cell_type": "code",
   "execution_count": 80,
   "metadata": {},
   "outputs": [],
   "source": [
    "def conexao():\n",
    "    con = pymysql.connect(host='localhost', user='root', passwd='admin', database='db_sistema', autocommit=True)\n",
    "    return con"
   ]
  },
  {
   "cell_type": "code",
   "execution_count": 81,
   "metadata": {},
   "outputs": [],
   "source": [
    "def consulta(query):\n",
    "    con = conexao()\n",
    "    cur = con.cursor()\n",
    "    exe = cur.execute(query)\n",
    "    \n",
    "    try:\n",
    "        if cur.rowcount > 0:\n",
    "            df = pd.read_sql(query, con)\n",
    "            return df\n",
    "    except:\n",
    "        print('Erro na execução da Query!')"
   ]
  },
  {
   "cell_type": "code",
   "execution_count": 82,
   "metadata": {},
   "outputs": [
    {
     "data": {
      "text/html": [
       "<div>\n",
       "<style scoped>\n",
       "    .dataframe tbody tr th:only-of-type {\n",
       "        vertical-align: middle;\n",
       "    }\n",
       "\n",
       "    .dataframe tbody tr th {\n",
       "        vertical-align: top;\n",
       "    }\n",
       "\n",
       "    .dataframe thead th {\n",
       "        text-align: right;\n",
       "    }\n",
       "</style>\n",
       "<table border=\"1\" class=\"dataframe\">\n",
       "  <thead>\n",
       "    <tr style=\"text-align: right;\">\n",
       "      <th></th>\n",
       "      <th>cli_id</th>\n",
       "      <th>cli_nome</th>\n",
       "      <th>cli_telefone</th>\n",
       "      <th>cli_datanasc</th>\n",
       "    </tr>\n",
       "  </thead>\n",
       "  <tbody>\n",
       "    <tr>\n",
       "      <th>0</th>\n",
       "      <td>1</td>\n",
       "      <td>André</td>\n",
       "      <td>998876543</td>\n",
       "      <td>2020-10-12</td>\n",
       "    </tr>\n",
       "    <tr>\n",
       "      <th>1</th>\n",
       "      <td>1</td>\n",
       "      <td>Lucas</td>\n",
       "      <td>998876543</td>\n",
       "      <td>1980-03-14</td>\n",
       "    </tr>\n",
       "    <tr>\n",
       "      <th>2</th>\n",
       "      <td>1</td>\n",
       "      <td>Veronica</td>\n",
       "      <td>98123456</td>\n",
       "      <td>2000-04-11</td>\n",
       "    </tr>\n",
       "    <tr>\n",
       "      <th>3</th>\n",
       "      <td>1</td>\n",
       "      <td>Kelly</td>\n",
       "      <td>998876543</td>\n",
       "      <td>1990-10-20</td>\n",
       "    </tr>\n",
       "    <tr>\n",
       "      <th>4</th>\n",
       "      <td>1</td>\n",
       "      <td>Maria</td>\n",
       "      <td>89765423</td>\n",
       "      <td>1989-08-30</td>\n",
       "    </tr>\n",
       "    <tr>\n",
       "      <th>5</th>\n",
       "      <td>1</td>\n",
       "      <td>Marília</td>\n",
       "      <td>99881234</td>\n",
       "      <td>2001-12-23</td>\n",
       "    </tr>\n",
       "    <tr>\n",
       "      <th>6</th>\n",
       "      <td>1</td>\n",
       "      <td>Maria</td>\n",
       "      <td>9865432</td>\n",
       "      <td>1998-01-28</td>\n",
       "    </tr>\n",
       "    <tr>\n",
       "      <th>7</th>\n",
       "      <td>2</td>\n",
       "      <td>Luiza</td>\n",
       "      <td>None</td>\n",
       "      <td>1981-10-14</td>\n",
       "    </tr>\n",
       "    <tr>\n",
       "      <th>8</th>\n",
       "      <td>3</td>\n",
       "      <td>Ana Luiza</td>\n",
       "      <td>93456789</td>\n",
       "      <td>1992-10-23</td>\n",
       "    </tr>\n",
       "  </tbody>\n",
       "</table>\n",
       "</div>"
      ],
      "text/plain": [
       "   cli_id   cli_nome cli_telefone cli_datanasc\n",
       "0       1      André    998876543   2020-10-12\n",
       "1       1      Lucas    998876543   1980-03-14\n",
       "2       1   Veronica     98123456   2000-04-11\n",
       "3       1      Kelly    998876543   1990-10-20\n",
       "4       1      Maria     89765423   1989-08-30\n",
       "5       1    Marília     99881234   2001-12-23\n",
       "6       1      Maria      9865432   1998-01-28\n",
       "7       2      Luiza         None   1981-10-14\n",
       "8       3  Ana Luiza     93456789   1992-10-23"
      ]
     },
     "execution_count": 82,
     "metadata": {},
     "output_type": "execute_result"
    }
   ],
   "source": [
    "consulta('SELECT * FROM clientes')"
   ]
  },
  {
   "cell_type": "code",
   "execution_count": 58,
   "metadata": {},
   "outputs": [],
   "source": [
    "# Mais dados\n",
    "consulta(\"INSERT INTO clientes (cli_id, cli_nome, cli_telefone, cli_datanasc) VALUES (1, 'Lucas', '998876543', '1980-03-14')\")\n",
    "consulta(\"INSERT INTO clientes (cli_id, cli_nome, cli_telefone, cli_datanasc) VALUES (1, 'Veronica', '98123456', '2000-04-11')\")\n",
    "consulta(\"INSERT INTO clientes (cli_id, cli_nome, cli_telefone, cli_datanasc) VALUES (1, 'Kelly', '998876543', '1990-10-20')\")\n",
    "consulta(\"INSERT INTO clientes (cli_id, cli_nome, cli_telefone, cli_datanasc) VALUES (1, 'Maria', '89765423', '1989-08-30')\")\n",
    "consulta(\"INSERT INTO clientes (cli_id, cli_nome, cli_telefone, cli_datanasc) VALUES (1, 'Marília', '99881234', '2001-12-23')\")\n",
    "consulta(\"INSERT INTO clientes (cli_id, cli_nome, cli_telefone, cli_datanasc) VALUES (1, 'Maria', '9865432', '1998-01-28')\")"
   ]
  },
  {
   "cell_type": "code",
   "execution_count": 60,
   "metadata": {},
   "outputs": [],
   "source": [
    "# Colunas específicas\n",
    "consulta(\"INSERT INTO clientes (cli_id, cli_nome, cli_datanasc) VALUES (2, 'Luiza', '1981-10-14')\")"
   ]
  },
  {
   "cell_type": "code",
   "execution_count": 61,
   "metadata": {},
   "outputs": [],
   "source": [
    "# Sem passar as colunas\n",
    "consulta(\"INSERT INTO clientes VALUES (3, 'Ana Luiza', '93456789', '1992-10-23')\")"
   ]
  },
  {
   "cell_type": "code",
   "execution_count": 83,
   "metadata": {},
   "outputs": [
    {
     "data": {
      "text/html": [
       "<div>\n",
       "<style scoped>\n",
       "    .dataframe tbody tr th:only-of-type {\n",
       "        vertical-align: middle;\n",
       "    }\n",
       "\n",
       "    .dataframe tbody tr th {\n",
       "        vertical-align: top;\n",
       "    }\n",
       "\n",
       "    .dataframe thead th {\n",
       "        text-align: right;\n",
       "    }\n",
       "</style>\n",
       "<table border=\"1\" class=\"dataframe\">\n",
       "  <thead>\n",
       "    <tr style=\"text-align: right;\">\n",
       "      <th></th>\n",
       "      <th>cli_id</th>\n",
       "      <th>cli_nome</th>\n",
       "      <th>cli_telefone</th>\n",
       "      <th>cli_datanasc</th>\n",
       "    </tr>\n",
       "  </thead>\n",
       "  <tbody>\n",
       "    <tr>\n",
       "      <th>0</th>\n",
       "      <td>1</td>\n",
       "      <td>André</td>\n",
       "      <td>998876543</td>\n",
       "      <td>2020-10-12</td>\n",
       "    </tr>\n",
       "    <tr>\n",
       "      <th>1</th>\n",
       "      <td>1</td>\n",
       "      <td>Lucas</td>\n",
       "      <td>998876543</td>\n",
       "      <td>1980-03-14</td>\n",
       "    </tr>\n",
       "    <tr>\n",
       "      <th>2</th>\n",
       "      <td>1</td>\n",
       "      <td>Veronica</td>\n",
       "      <td>98123456</td>\n",
       "      <td>2000-04-11</td>\n",
       "    </tr>\n",
       "    <tr>\n",
       "      <th>3</th>\n",
       "      <td>1</td>\n",
       "      <td>Kelly</td>\n",
       "      <td>998876543</td>\n",
       "      <td>1990-10-20</td>\n",
       "    </tr>\n",
       "    <tr>\n",
       "      <th>4</th>\n",
       "      <td>1</td>\n",
       "      <td>Maria</td>\n",
       "      <td>89765423</td>\n",
       "      <td>1989-08-30</td>\n",
       "    </tr>\n",
       "    <tr>\n",
       "      <th>5</th>\n",
       "      <td>1</td>\n",
       "      <td>Marília</td>\n",
       "      <td>99881234</td>\n",
       "      <td>2001-12-23</td>\n",
       "    </tr>\n",
       "    <tr>\n",
       "      <th>6</th>\n",
       "      <td>1</td>\n",
       "      <td>Maria</td>\n",
       "      <td>9865432</td>\n",
       "      <td>1998-01-28</td>\n",
       "    </tr>\n",
       "    <tr>\n",
       "      <th>7</th>\n",
       "      <td>2</td>\n",
       "      <td>Luiza</td>\n",
       "      <td>None</td>\n",
       "      <td>1981-10-14</td>\n",
       "    </tr>\n",
       "    <tr>\n",
       "      <th>8</th>\n",
       "      <td>3</td>\n",
       "      <td>Ana Luiza</td>\n",
       "      <td>93456789</td>\n",
       "      <td>1992-10-23</td>\n",
       "    </tr>\n",
       "  </tbody>\n",
       "</table>\n",
       "</div>"
      ],
      "text/plain": [
       "   cli_id   cli_nome cli_telefone cli_datanasc\n",
       "0       1      André    998876543   2020-10-12\n",
       "1       1      Lucas    998876543   1980-03-14\n",
       "2       1   Veronica     98123456   2000-04-11\n",
       "3       1      Kelly    998876543   1990-10-20\n",
       "4       1      Maria     89765423   1989-08-30\n",
       "5       1    Marília     99881234   2001-12-23\n",
       "6       1      Maria      9865432   1998-01-28\n",
       "7       2      Luiza         None   1981-10-14\n",
       "8       3  Ana Luiza     93456789   1992-10-23"
      ]
     },
     "execution_count": 83,
     "metadata": {},
     "output_type": "execute_result"
    }
   ],
   "source": [
    "consulta('SELECT * FROM clientes')"
   ]
  },
  {
   "cell_type": "code",
   "execution_count": 63,
   "metadata": {},
   "outputs": [
    {
     "name": "stdout",
     "output_type": "stream",
     "text": [
      "('André',)\n",
      "('Lucas',)\n",
      "('Veronica',)\n",
      "('Kelly',)\n",
      "('Maria',)\n",
      "('Marília',)\n",
      "('Luiza',)\n",
      "('Ana Luiza',)\n"
     ]
    }
   ],
   "source": [
    "# Distintos - Sem nomes repetidos\n",
    "consulta('SELECT DISTINCT cli_nome FROM clientes')"
   ]
  },
  {
   "cell_type": "code",
   "execution_count": 64,
   "metadata": {},
   "outputs": [
    {
     "name": "stdout",
     "output_type": "stream",
     "text": [
      "(1, 'Maria', '89765423', datetime.date(1989, 8, 30))\n",
      "(1, 'Maria', '9865432', datetime.date(1998, 1, 28))\n"
     ]
    }
   ],
   "source": [
    "# Where\n",
    "consulta('SELECT * FROM clientes WHERE cli_nome = \"Maria\"')"
   ]
  },
  {
   "cell_type": "markdown",
   "metadata": {},
   "source": [
    "# SGBD Postgre"
   ]
  },
  {
   "cell_type": "code",
   "execution_count": 1,
   "metadata": {},
   "outputs": [],
   "source": [
    "#pip install psycopg2\n",
    "import psycopg2"
   ]
  },
  {
   "cell_type": "code",
   "execution_count": 33,
   "metadata": {},
   "outputs": [],
   "source": [
    "# Conexão\n",
    "conexao = psycopg2.connect(host=\"localhost\", database=\"db_sistema\", user=\"postgres\", password=\"admin\", port=5432)"
   ]
  },
  {
   "cell_type": "code",
   "execution_count": 34,
   "metadata": {},
   "outputs": [],
   "source": [
    "# Cria um cursor\n",
    "cursor = conexao.cursor()"
   ]
  },
  {
   "cell_type": "code",
   "execution_count": 35,
   "metadata": {},
   "outputs": [],
   "source": [
    "# Salvando dados - No PGadmin\n",
    "cursor.execute(\"INSERT INTO clientes VALUES (3, 'Ana Luiza', '93456789', '1992-10-23')\")"
   ]
  },
  {
   "cell_type": "code",
   "execution_count": 36,
   "metadata": {},
   "outputs": [],
   "source": [
    "# Executa\n",
    "cursor.execute(\"SELECT * FROM clientes\")"
   ]
  },
  {
   "cell_type": "code",
   "execution_count": 37,
   "metadata": {},
   "outputs": [],
   "source": [
    "# Recupera todos os registros\n",
    "registros = cursor.fetchall()"
   ]
  },
  {
   "cell_type": "code",
   "execution_count": 38,
   "metadata": {},
   "outputs": [
    {
     "name": "stdout",
     "output_type": "stream",
     "text": [
      "[(3, 'Ana Luiza', '93456789', datetime.date(1992, 10, 23)), (3, 'Ana Luiza', '93456789', datetime.date(1992, 10, 23))]\n"
     ]
    }
   ],
   "source": [
    "print(registros)"
   ]
  },
  {
   "cell_type": "code",
   "execution_count": 41,
   "metadata": {},
   "outputs": [
    {
     "name": "stdout",
     "output_type": "stream",
     "text": [
      "Nome =  Ana Luiza\n",
      "Telefone  =  93456789 \n",
      "\n",
      "Nome =  Ana Luiza\n",
      "Telefone  =  93456789 \n",
      "\n"
     ]
    }
   ],
   "source": [
    "# Percorre os registros e imprime\n",
    "for row in registros:\n",
    "    print(\"Nome = \", row[1])\n",
    "    print(\"Telefone  = \", row[2], \"\\n\")"
   ]
  }
 ],
 "metadata": {
  "kernelspec": {
   "display_name": "Python 3",
   "language": "python",
   "name": "python3"
  },
  "language_info": {
   "codemirror_mode": {
    "name": "ipython",
    "version": 3
   },
   "file_extension": ".py",
   "mimetype": "text/x-python",
   "name": "python",
   "nbconvert_exporter": "python",
   "pygments_lexer": "ipython3",
   "version": "3.7.6"
  }
 },
 "nbformat": 4,
 "nbformat_minor": 4
}
