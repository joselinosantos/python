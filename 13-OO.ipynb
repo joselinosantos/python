{
 "cells": [
  {
   "cell_type": "code",
   "execution_count": 5,
   "metadata": {},
   "outputs": [],
   "source": [
    "# Uma simples classe sem nada\n",
    "class Classe:\n",
    "    pass"
   ]
  },
  {
   "cell_type": "code",
   "execution_count": 7,
   "metadata": {},
   "outputs": [
    {
     "data": {
      "text/plain": [
       "type"
      ]
     },
     "execution_count": 7,
     "metadata": {},
     "output_type": "execute_result"
    }
   ],
   "source": [
    "type(Classe)"
   ]
  },
  {
   "cell_type": "code",
   "execution_count": 2,
   "metadata": {},
   "outputs": [],
   "source": [
    "# Classe com método construtor\n",
    "class Filme:\n",
    "    def __init__(self):\n",
    "        print('Classe criada!')"
   ]
  },
  {
   "cell_type": "code",
   "execution_count": 8,
   "metadata": {},
   "outputs": [
    {
     "name": "stdout",
     "output_type": "stream",
     "text": [
      "Classe criada!\n"
     ]
    }
   ],
   "source": [
    "# Instancia da classe com um simples texto\n",
    "filme = Filme()"
   ]
  },
  {
   "cell_type": "code",
   "execution_count": 9,
   "metadata": {},
   "outputs": [],
   "source": [
    "# Classe com atributos e valores predefinidos(estaticos)\n",
    "class Filme:\n",
    "    def __init__(self):\n",
    "        self.titulo = 'Matrix'\n",
    "        self.genero = 'Ficção'\n",
    "        print('Classe com atributos criada!')"
   ]
  },
  {
   "cell_type": "code",
   "execution_count": 11,
   "metadata": {},
   "outputs": [
    {
     "name": "stdout",
     "output_type": "stream",
     "text": [
      "Classe com atributos criada!\n"
     ]
    }
   ],
   "source": [
    "filme = Filme()"
   ]
  },
  {
   "cell_type": "code",
   "execution_count": 12,
   "metadata": {},
   "outputs": [
    {
     "data": {
      "text/plain": [
       "'Matrix'"
      ]
     },
     "execution_count": 12,
     "metadata": {},
     "output_type": "execute_result"
    }
   ],
   "source": [
    "# Acessando atributos\n",
    "filme.titulo"
   ]
  },
  {
   "cell_type": "code",
   "execution_count": 13,
   "metadata": {},
   "outputs": [],
   "source": [
    "# Adicionando mais métodos\n",
    "class Filme:\n",
    "    def __init__(self):\n",
    "        self.titulo = 'Matrix'\n",
    "        self.genero = 'Ficção'\n",
    "        print('Classe com atributos criada!')\n",
    "        \n",
    "    def imprime(self):\n",
    "        print(f'Titulo {self.titulo} genero {self.genero}')"
   ]
  },
  {
   "cell_type": "code",
   "execution_count": 14,
   "metadata": {},
   "outputs": [
    {
     "name": "stdout",
     "output_type": "stream",
     "text": [
      "Classe com atributos criada!\n"
     ]
    }
   ],
   "source": [
    "filme = Filme()"
   ]
  },
  {
   "cell_type": "code",
   "execution_count": 15,
   "metadata": {},
   "outputs": [
    {
     "name": "stdout",
     "output_type": "stream",
     "text": [
      "Titulo Matrix genero Ficção\n"
     ]
    }
   ],
   "source": [
    "filme.imprime()"
   ]
  },
  {
   "cell_type": "code",
   "execution_count": 16,
   "metadata": {},
   "outputs": [],
   "source": [
    "# Classe com parametros passados na instancia\n",
    "class Livro:\n",
    "    def __init__(self, titulo, categoria, paginas):\n",
    "        self.titulo = titulo\n",
    "        self.categoria = categoria\n",
    "        self.paginas = paginas"
   ]
  },
  {
   "cell_type": "code",
   "execution_count": 18,
   "metadata": {},
   "outputs": [],
   "source": [
    "# Instanciando e passando valores\n",
    "livro = Livro('Segredos da mente milionaria', 'Riqueza', 200)"
   ]
  },
  {
   "cell_type": "code",
   "execution_count": 19,
   "metadata": {},
   "outputs": [
    {
     "data": {
      "text/plain": [
       "'Segredos da mente milionaria'"
      ]
     },
     "execution_count": 19,
     "metadata": {},
     "output_type": "execute_result"
    }
   ],
   "source": [
    "# Acessando o atributo titulo\n",
    "livro.titulo"
   ]
  },
  {
   "cell_type": "code",
   "execution_count": 21,
   "metadata": {},
   "outputs": [],
   "source": [
    "# Adicionando o método imprime\n",
    "class Livro:\n",
    "    def __init__(self, titulo, categoria, paginas):\n",
    "        self.titulo = titulo\n",
    "        self.categoria = categoria\n",
    "        self.paginas = paginas\n",
    "        \n",
    "    def imprime(self):\n",
    "        print(f'Titulo: {self.titulo} Categoria: {self.categoria} Paginas: {self.paginas}')"
   ]
  },
  {
   "cell_type": "code",
   "execution_count": 22,
   "metadata": {},
   "outputs": [],
   "source": [
    "livro = Livro('O segredo de Luiza', 'Admin', 200)"
   ]
  },
  {
   "cell_type": "code",
   "execution_count": 23,
   "metadata": {},
   "outputs": [
    {
     "name": "stdout",
     "output_type": "stream",
     "text": [
      "Titulo: O segredo de Luiza Categoria: Admin Paginas: 200\n"
     ]
    }
   ],
   "source": [
    "livro.imprime()"
   ]
  },
  {
   "cell_type": "code",
   "execution_count": 21,
   "metadata": {},
   "outputs": [],
   "source": [
    "# Alterando os valores direto na instancia\n",
    "livro2 = Livro(titulo='A conquista', categoria='Romance', paginas=100)"
   ]
  },
  {
   "cell_type": "code",
   "execution_count": 218,
   "metadata": {},
   "outputs": [
    {
     "name": "stdout",
     "output_type": "stream",
     "text": [
      "Titulo: A conquista Categoria: Romance Paginas: 100\n"
     ]
    }
   ],
   "source": [
    "livro2.imprime()"
   ]
  },
  {
   "cell_type": "code",
   "execution_count": 222,
   "metadata": {},
   "outputs": [],
   "source": [
    "# Passando os valores já com os parametros\n",
    "class Livro:\n",
    "    def __init__(self, titulo='A física do futuro', categoria='Ciência', paginas=400):\n",
    "        self.titulo = titulo\n",
    "        self.categoria = categoria\n",
    "        self.paginas = paginas\n",
    "\n",
    "    def imprime(self):\n",
    "        print(f'Titulo: {self.titulo} Categoria: {self.categoria} Paginas: {self.paginas}')"
   ]
  },
  {
   "cell_type": "code",
   "execution_count": 223,
   "metadata": {},
   "outputs": [
    {
     "name": "stdout",
     "output_type": "stream",
     "text": [
      "Titulo: A física do futuro Categoria: Ciência Paginas: 400\n"
     ]
    }
   ],
   "source": [
    "livro = Livro()\n",
    "livro.imprime()"
   ]
  },
  {
   "cell_type": "code",
   "execution_count": 24,
   "metadata": {},
   "outputs": [],
   "source": [
    "# Sistema de alunos\n",
    "class Alunos:\n",
    "    def __init__(self, nome, telefone, curso):\n",
    "        self.nome = nome\n",
    "        self.telefone = telefone\n",
    "        self.curso = curso\n",
    "    \n",
    "    def listar(self):\n",
    "        print(f'Nome: {self.nome} Telefone: {self.telefone} Curso: {self.curso}')"
   ]
  },
  {
   "cell_type": "code",
   "execution_count": 26,
   "metadata": {},
   "outputs": [],
   "source": [
    "aluno = Alunos('Luiza Santos', '98989898', 'Informática')"
   ]
  },
  {
   "cell_type": "code",
   "execution_count": 27,
   "metadata": {},
   "outputs": [
    {
     "name": "stdout",
     "output_type": "stream",
     "text": [
      "Nome: Luiza Santos Telefone: 98989898 Curso: Informática\n"
     ]
    }
   ],
   "source": [
    "aluno.listar()"
   ]
  },
  {
   "cell_type": "code",
   "execution_count": 28,
   "metadata": {},
   "outputs": [
    {
     "data": {
      "text/plain": [
       "True"
      ]
     },
     "execution_count": 28,
     "metadata": {},
     "output_type": "execute_result"
    }
   ],
   "source": [
    "# Atributos - Verificar se existe\n",
    "hasattr(aluno, 'nome')"
   ]
  },
  {
   "cell_type": "code",
   "execution_count": 29,
   "metadata": {},
   "outputs": [],
   "source": [
    "# Passar valor para um atributo\n",
    "setattr(aluno, 'nome', 'Julia Silva')"
   ]
  },
  {
   "cell_type": "code",
   "execution_count": 30,
   "metadata": {},
   "outputs": [
    {
     "data": {
      "text/plain": [
       "'Julia Silva'"
      ]
     },
     "execution_count": 30,
     "metadata": {},
     "output_type": "execute_result"
    }
   ],
   "source": [
    "# Obter o valor do atributo\n",
    "getattr(aluno, 'nome')"
   ]
  },
  {
   "cell_type": "code",
   "execution_count": 31,
   "metadata": {},
   "outputs": [],
   "source": [
    "# Deletar atributo\n",
    "delattr(aluno, 'curso')"
   ]
  },
  {
   "cell_type": "code",
   "execution_count": 32,
   "metadata": {},
   "outputs": [
    {
     "data": {
      "text/plain": [
       "False"
      ]
     },
     "execution_count": 32,
     "metadata": {},
     "output_type": "execute_result"
    }
   ],
   "source": [
    "hasattr(aluno, 'curso')"
   ]
  },
  {
   "cell_type": "code",
   "execution_count": 1,
   "metadata": {},
   "outputs": [],
   "source": [
    "# Métodos especiais\n",
    "class Alunos:\n",
    "    def __init__(self, nome, telefone, curso, qtd_faltas):\n",
    "        self.nome = nome\n",
    "        self.telefone = telefone\n",
    "        self.curso = curso\n",
    "        self.qtd_faltas = qtd_faltas\n",
    "        \n",
    "    def __str__(self):\n",
    "        return f'Nome: {self.nome} Telefone: {self.telefone} Curso: {self.curso} Qtd faltas : {self.qtd_faltas}'\n",
    "    \n",
    "    def __len__(self):\n",
    "        return self.qtd_faltas"
   ]
  },
  {
   "cell_type": "code",
   "execution_count": 2,
   "metadata": {},
   "outputs": [],
   "source": [
    "aluno = Alunos('Luiza', '98766544', 'Python', 3)"
   ]
  },
  {
   "cell_type": "code",
   "execution_count": 3,
   "metadata": {},
   "outputs": [
    {
     "data": {
      "text/plain": [
       "'Nome: Luiza Telefone: 98766544 Curso: Python Qtd faltas : 3'"
      ]
     },
     "execution_count": 3,
     "metadata": {},
     "output_type": "execute_result"
    }
   ],
   "source": [
    "str(aluno)"
   ]
  },
  {
   "cell_type": "code",
   "execution_count": 36,
   "metadata": {},
   "outputs": [
    {
     "data": {
      "text/plain": [
       "3"
      ]
     },
     "execution_count": 36,
     "metadata": {},
     "output_type": "execute_result"
    }
   ],
   "source": [
    "len(aluno)"
   ]
  },
  {
   "cell_type": "markdown",
   "metadata": {},
   "source": [
    "# Herança"
   ]
  },
  {
   "cell_type": "code",
   "execution_count": 4,
   "metadata": {},
   "outputs": [],
   "source": [
    "# Herança simples\n",
    "class Pessoa:\n",
    "    def __init__(self, nome, idade):\n",
    "        self.nome = nome\n",
    "        self.idade = idade\n",
    "    \n",
    "    def imprime(self):\n",
    "         print(f'Nome: {self.nome} Idade: {self.idade}')"
   ]
  },
  {
   "cell_type": "code",
   "execution_count": 5,
   "metadata": {},
   "outputs": [],
   "source": [
    "pessoa = Pessoa('Joselino', 31)"
   ]
  },
  {
   "cell_type": "code",
   "execution_count": 6,
   "metadata": {},
   "outputs": [
    {
     "name": "stdout",
     "output_type": "stream",
     "text": [
      "Nome: Joselino Idade: 31\n"
     ]
    }
   ],
   "source": [
    "pessoa.imprime()"
   ]
  },
  {
   "cell_type": "code",
   "execution_count": 7,
   "metadata": {},
   "outputs": [],
   "source": [
    "# Herança sem atributos na subclasse\n",
    "class Aluno(Pessoa):\n",
    "    def cancelar_matricula(self):\n",
    "        print('Cancelado com sucesso!') "
   ]
  },
  {
   "cell_type": "code",
   "execution_count": 8,
   "metadata": {},
   "outputs": [],
   "source": [
    "aluno = Aluno('Mateus', 21)"
   ]
  },
  {
   "cell_type": "code",
   "execution_count": 9,
   "metadata": {},
   "outputs": [
    {
     "name": "stdout",
     "output_type": "stream",
     "text": [
      "Cancelado com sucesso!\n"
     ]
    }
   ],
   "source": [
    "aluno.cancelar_matricula()"
   ]
  },
  {
   "cell_type": "code",
   "execution_count": 224,
   "metadata": {},
   "outputs": [],
   "source": [
    "# Herança com atributos na subclasse\n",
    "class Aluno(Pessoa):\n",
    "    def __init__(self, nome, idade, curso, qtd_faltas):\n",
    "        Pessoa.__init__(self, nome, idade) # Chama construtor da superclasse\n",
    "        self.curso = curso\n",
    "        self.qtd_faltas = qtd_faltas\n",
    "\n",
    "    def cancelar_matricula(self):\n",
    "        print('Cancelado com sucesso!') "
   ]
  },
  {
   "cell_type": "code",
   "execution_count": 226,
   "metadata": {},
   "outputs": [
    {
     "data": {
      "text/plain": [
       "'Elias'"
      ]
     },
     "execution_count": 226,
     "metadata": {},
     "output_type": "execute_result"
    }
   ],
   "source": [
    "aluno = Aluno('Elias', 22, 'curso', 1)\n",
    "aluno.nome"
   ]
  },
  {
   "cell_type": "code",
   "execution_count": 10,
   "metadata": {},
   "outputs": [],
   "source": [
    "# Usando o super\n",
    "class Professor(Pessoa):\n",
    "    def __init__(self, nome, idade, especialidade, salario):\n",
    "        super().__init__(nome, idade) # Veja que não usei o self como antes  e sim o método super()\n",
    "        self.especialidade = especialidade\n",
    "        self.salario = salario\n",
    "\n",
    "    def aumentar_salario(self, aum):\n",
    "        print(f'Aumentado para {self.salario + aum} com sucesso!') "
   ]
  },
  {
   "cell_type": "code",
   "execution_count": 11,
   "metadata": {},
   "outputs": [
    {
     "data": {
      "text/plain": [
       "'DS'"
      ]
     },
     "execution_count": 11,
     "metadata": {},
     "output_type": "execute_result"
    }
   ],
   "source": [
    "prof = Professor('Joselino', 31, 'DS', 20000)\n",
    "prof.especialidade"
   ]
  },
  {
   "cell_type": "code",
   "execution_count": 12,
   "metadata": {},
   "outputs": [
    {
     "name": "stdout",
     "output_type": "stream",
     "text": [
      "Aumentado para 20100 com sucesso!\n"
     ]
    }
   ],
   "source": [
    "prof.aumentar_salario(100)"
   ]
  },
  {
   "cell_type": "markdown",
   "metadata": {},
   "source": [
    "## Exercício Banco"
   ]
  },
  {
   "cell_type": "code",
   "execution_count": 13,
   "metadata": {},
   "outputs": [],
   "source": [
    "class Funcionario:\n",
    "\n",
    "    def __init__(self, nome, cpf, salario):\n",
    "        self._nome = nome\n",
    "        self._cpf = cpf\n",
    "        self._salario = salario\n",
    "\n",
    "     # outros metodos e propriedades"
   ]
  },
  {
   "cell_type": "code",
   "execution_count": 14,
   "metadata": {},
   "outputs": [
    {
     "data": {
      "text/plain": [
       "'José'"
      ]
     },
     "execution_count": 14,
     "metadata": {},
     "output_type": "execute_result"
    }
   ],
   "source": [
    "fun = Funcionario('José', '222222222-22', 5000.0)\n",
    "fun._nome"
   ]
  },
  {
   "cell_type": "code",
   "execution_count": 15,
   "metadata": {},
   "outputs": [],
   "source": [
    "# Sem herança - tem que repetir novamente\n",
    "class Gerente:\n",
    "\n",
    "    def __init__(self, nome, cpf, salario, senha, qtd_gerenciados):\n",
    "        self._nome = nome\n",
    "        self._cpf = cpf\n",
    "        self._salario = salario\n",
    "        self._senha = senha\n",
    "        self._qtd_gerenciados = qtd_gerenciados\n",
    "\n",
    "    def autentica(self, senha):\n",
    "        if self._senha == senha:\n",
    "            print(\"Acesso permitido!\")\n",
    "            return True\n",
    "        else:\n",
    "            print(\"Acesso negado!\")\n",
    "            return False\n",
    "\n",
    "    # outros metodos (comuns a um Funcionario)"
   ]
  },
  {
   "cell_type": "code",
   "execution_count": 16,
   "metadata": {},
   "outputs": [
    {
     "data": {
      "text/plain": [
       "'admin'"
      ]
     },
     "execution_count": 16,
     "metadata": {},
     "output_type": "execute_result"
    }
   ],
   "source": [
    "gerente = Gerente('Felipe', '333.333.333-22', 9000.0, 'admin', 12)\n",
    "gerente._senha"
   ]
  },
  {
   "cell_type": "code",
   "execution_count": 17,
   "metadata": {},
   "outputs": [
    {
     "name": "stdout",
     "output_type": "stream",
     "text": [
      "Acesso negado!\n"
     ]
    },
    {
     "data": {
      "text/plain": [
       "False"
      ]
     },
     "execution_count": 17,
     "metadata": {},
     "output_type": "execute_result"
    }
   ],
   "source": [
    "gerente.autentica('admin2')"
   ]
  },
  {
   "cell_type": "code",
   "execution_count": 21,
   "metadata": {},
   "outputs": [],
   "source": [
    "# Com herança - Não precisa repetir os mesmos atributos\n",
    "class Gerente(Funcionario):\n",
    "\n",
    "    def __init__(self, senha, qtd_gerenciados):\n",
    "        self._senha = senha\n",
    "        self.qtd_gerenciados = qtd_gerenciados\n",
    "\n",
    "    def autentica(self, senha):\n",
    "        if self._senha == senha:\n",
    "            print(\"Acesso permitido\")\n",
    "            return True\n",
    "        else:\n",
    "            print(\"Acesso negado\")              \n",
    "            return False"
   ]
  },
  {
   "cell_type": "code",
   "execution_count": 22,
   "metadata": {},
   "outputs": [
    {
     "ename": "TypeError",
     "evalue": "__init__() takes 3 positional arguments but 4 were given",
     "output_type": "error",
     "traceback": [
      "\u001b[0;31m---------------------------------------------------------------------------\u001b[0m",
      "\u001b[0;31mTypeError\u001b[0m                                 Traceback (most recent call last)",
      "\u001b[0;32m<ipython-input-22-741fc162eec8>\u001b[0m in \u001b[0;36m<module>\u001b[0;34m\u001b[0m\n\u001b[1;32m      1\u001b[0m \u001b[0;31m# Vai gerar erro, pois o construtor da superclasse precisa ser chamado\u001b[0m\u001b[0;34m\u001b[0m\u001b[0;34m\u001b[0m\u001b[0;34m\u001b[0m\u001b[0m\n\u001b[0;32m----> 2\u001b[0;31m \u001b[0mger\u001b[0m \u001b[0;34m=\u001b[0m \u001b[0mGerente\u001b[0m\u001b[0;34m(\u001b[0m\u001b[0;34m'José'\u001b[0m\u001b[0;34m,\u001b[0m \u001b[0;34m'222222222-22'\u001b[0m\u001b[0;34m,\u001b[0m \u001b[0;36m5000.0\u001b[0m\u001b[0;34m)\u001b[0m\u001b[0;34m\u001b[0m\u001b[0;34m\u001b[0m\u001b[0m\n\u001b[0m\u001b[1;32m      3\u001b[0m \u001b[0mger\u001b[0m\u001b[0;34m.\u001b[0m\u001b[0m_nome\u001b[0m\u001b[0;34m\u001b[0m\u001b[0;34m\u001b[0m\u001b[0m\n",
      "\u001b[0;31mTypeError\u001b[0m: __init__() takes 3 positional arguments but 4 were given"
     ]
    }
   ],
   "source": [
    "# Vai gerar erro, pois o construtor da superclasse precisa ser chamado\n",
    "ger = Gerente('José', '222222222-22', 5000.0)\n",
    "ger._nome"
   ]
  },
  {
   "cell_type": "code",
   "execution_count": 24,
   "metadata": {},
   "outputs": [],
   "source": [
    "# Chamando o construtor \n",
    "class Gerente(Funcionario):\n",
    "\n",
    "    def __init__(self, senha, qtd_gerenciados):\n",
    "        Funcionario.__init__(self, nome, cpf, salario)\n",
    "        self._senha = senha\n",
    "        self.qtd_gerenciados = qtd_gerenciados\n",
    "\n",
    "    def autentica(self, senha):\n",
    "        if self._senha == senha:\n",
    "            print(\"acesso permitido\")\n",
    "            return True\n",
    "        else:\n",
    "            print(\"acesso negado\")              \n",
    "            return False"
   ]
  },
  {
   "cell_type": "code",
   "execution_count": 25,
   "metadata": {},
   "outputs": [
    {
     "ename": "TypeError",
     "evalue": "__init__() takes 3 positional arguments but 6 were given",
     "output_type": "error",
     "traceback": [
      "\u001b[0;31m---------------------------------------------------------------------------\u001b[0m",
      "\u001b[0;31mTypeError\u001b[0m                                 Traceback (most recent call last)",
      "\u001b[0;32m<ipython-input-25-d78625e9ccc4>\u001b[0m in \u001b[0;36m<module>\u001b[0;34m\u001b[0m\n\u001b[1;32m      1\u001b[0m \u001b[0;31m# Ainda vai gerar erro, pois os paramentros precisam ser declarados nos dois construtores\u001b[0m\u001b[0;34m\u001b[0m\u001b[0;34m\u001b[0m\u001b[0;34m\u001b[0m\u001b[0m\n\u001b[0;32m----> 2\u001b[0;31m \u001b[0mger\u001b[0m \u001b[0;34m=\u001b[0m \u001b[0mGerente\u001b[0m\u001b[0;34m(\u001b[0m\u001b[0;34m'José'\u001b[0m\u001b[0;34m,\u001b[0m \u001b[0;34m'222222222-22'\u001b[0m\u001b[0;34m,\u001b[0m \u001b[0;36m5000.0\u001b[0m\u001b[0;34m,\u001b[0m \u001b[0;34m'admin'\u001b[0m\u001b[0;34m,\u001b[0m \u001b[0;36m19\u001b[0m\u001b[0;34m)\u001b[0m\u001b[0;34m\u001b[0m\u001b[0;34m\u001b[0m\u001b[0m\n\u001b[0m\u001b[1;32m      3\u001b[0m \u001b[0mger\u001b[0m\u001b[0;34m.\u001b[0m\u001b[0mautentica\u001b[0m\u001b[0;34m(\u001b[0m\u001b[0;34m'admin'\u001b[0m\u001b[0;34m)\u001b[0m\u001b[0;34m\u001b[0m\u001b[0;34m\u001b[0m\u001b[0m\n",
      "\u001b[0;31mTypeError\u001b[0m: __init__() takes 3 positional arguments but 6 were given"
     ]
    }
   ],
   "source": [
    "# Ainda vai gerar erro, pois os paramentros precisam ser declarados nos dois construtores\n",
    "ger = Gerente('José', '222222222-22', 5000.0, 'admin', 19)\n",
    "ger.autentica('admin')"
   ]
  },
  {
   "cell_type": "code",
   "execution_count": 26,
   "metadata": {},
   "outputs": [],
   "source": [
    "# Passa os paramemetros nos dois construtores\n",
    "class Gerente(Funcionario):\n",
    "\n",
    "    def __init__(self, nome, cpf, salario, senha, qtd_gerenciados):\n",
    "        self._senha = senha\n",
    "        self.qtd_gerenciados = qtd_gerenciados"
   ]
  },
  {
   "cell_type": "code",
   "execution_count": 27,
   "metadata": {},
   "outputs": [
    {
     "data": {
      "text/plain": [
       "'admin'"
      ]
     },
     "execution_count": 27,
     "metadata": {},
     "output_type": "execute_result"
    }
   ],
   "source": [
    "# Agora sim, mas ainda não herda os parametros\n",
    "ger = Gerente('José', '222222222-22', 5000.00, 'admin', 19)\n",
    "ger._senha"
   ]
  },
  {
   "cell_type": "code",
   "execution_count": 28,
   "metadata": {},
   "outputs": [],
   "source": [
    "# Passa os parametros e corrige\n",
    "class Gerente(Funcionario):\n",
    "\n",
    "    def __init__(self,  nome, cpf, salario, senha, qtd_gerenciados):\n",
    "        Funcionario.__init__(self, nome, cpf, salario)\n",
    "        self._senha = senha\n",
    "        self.qtd_gerenciados = qtd_gerenciados"
   ]
  },
  {
   "cell_type": "code",
   "execution_count": 29,
   "metadata": {},
   "outputs": [
    {
     "data": {
      "text/plain": [
       "'José'"
      ]
     },
     "execution_count": 29,
     "metadata": {},
     "output_type": "execute_result"
    }
   ],
   "source": [
    "# Enfim, tudo ok\n",
    "ger = Gerente('José', '222222222-22', 5000.0, 'admin', 19)\n",
    "ger._nome"
   ]
  },
  {
   "cell_type": "code",
   "execution_count": 30,
   "metadata": {},
   "outputs": [],
   "source": [
    "# Usando o super\n",
    "class Gerente(Funcionario):\n",
    "\n",
    "    def __init__(self, nome, cpf, salario, senha, qtd_gerenciados):\n",
    "        super().__init__(nome, cpf, salario)\n",
    "        self._senha = senha\n",
    "        self.qtd_gerenciados = qtd_gerenciados"
   ]
  },
  {
   "cell_type": "code",
   "execution_count": 31,
   "metadata": {},
   "outputs": [
    {
     "data": {
      "text/plain": [
       "'José'"
      ]
     },
     "execution_count": 31,
     "metadata": {},
     "output_type": "execute_result"
    }
   ],
   "source": [
    "# Agora sim\n",
    "ger = Gerente('José', '222222222-22', 5000.00, 'admin', 19)\n",
    "ger._nome"
   ]
  },
  {
   "cell_type": "code",
   "execution_count": 41,
   "metadata": {},
   "outputs": [],
   "source": [
    "# (Override) Reescrita de métodos\n",
    "class Funcionario:\n",
    "\n",
    "    def __init__(self, nome, cpf, salario):\n",
    "        self._nome = nome\n",
    "        self._cpf = cpf\n",
    "        self._salario = salario\n",
    "\n",
    "    # outros métodos e properties\n",
    "\n",
    "    def get_bonificacao(self):\n",
    "        return self._salario * 0.10"
   ]
  },
  {
   "cell_type": "code",
   "execution_count": 42,
   "metadata": {},
   "outputs": [],
   "source": [
    "class Gerente(Funcionario):\n",
    "\n",
    "    def __init__(self, nome, cpf, salario, senha, qtd_gerenciados):\n",
    "        super().__init__(nome, cpf, salario)\n",
    "        self._senha = senha\n",
    "        self.qtd_gerenciados = qtd_gerenciados"
   ]
  },
  {
   "cell_type": "code",
   "execution_count": 43,
   "metadata": {},
   "outputs": [
    {
     "name": "stdout",
     "output_type": "stream",
     "text": [
      "500.0\n"
     ]
    }
   ],
   "source": [
    "# O valor 500 estará errado, era pra se 750\n",
    "gerente = Gerente('José', '222222222-22', 5000.0, '1234', 0)\n",
    "print(gerente.get_bonificacao())"
   ]
  },
  {
   "cell_type": "code",
   "execution_count": 44,
   "metadata": {},
   "outputs": [],
   "source": [
    "# Corrigindo\n",
    "class Gerente(Funcionario):\n",
    "\n",
    "    def __init__(self, nome, cpf, salario, senha, qtd_gerenciados):\n",
    "        super().__init__(nome, cpf, salario)\n",
    "        self._senha = senha\n",
    "        self.qtd_gerenciados = qtd_gerenciados\n",
    "\n",
    "    def get_bonificacao(self):\n",
    "        return self._salario * 0.15 # Percentual alterado para 15%\n",
    "\n",
    "    # metodos e properties"
   ]
  },
  {
   "cell_type": "code",
   "execution_count": 45,
   "metadata": {},
   "outputs": [
    {
     "name": "stdout",
     "output_type": "stream",
     "text": [
      "750.0\n"
     ]
    }
   ],
   "source": [
    "# Chama método reescrito\n",
    "gerente = Gerente('José', '222222222-22', 5000.0, '1234', 0)\n",
    "print(gerente.get_bonificacao())"
   ]
  },
  {
   "cell_type": "code",
   "execution_count": 46,
   "metadata": {},
   "outputs": [
    {
     "name": "stdout",
     "output_type": "stream",
     "text": [
      "{'_nome': 'João', '_cpf': '111111111-11', '_salario': 2000.0}\n"
     ]
    }
   ],
   "source": [
    "# Utilize o método vars() para acessar os atributos de Gerente e ver que a classe herda todos os atributos de Funcionario:\n",
    "funcionario = Funcionario('João', '111111111-11', 2000.0)\n",
    "print(vars(funcionario))"
   ]
  },
  {
   "cell_type": "code",
   "execution_count": 48,
   "metadata": {},
   "outputs": [
    {
     "name": "stdout",
     "output_type": "stream",
     "text": [
      "{'_nome': 'José', '_cpf': '222222222-22', '_salario': 5000.0, '_senha': '1234', 'qtd_gerenciados': 0}\n"
     ]
    }
   ],
   "source": [
    "gerente = Gerente('José', '222222222-22', 5000.0, '1234', 0)\n",
    "print(vars(gerente))"
   ]
  },
  {
   "cell_type": "markdown",
   "metadata": {},
   "source": [
    "### Invocando o método reescrito dentro da classe"
   ]
  },
  {
   "cell_type": "code",
   "execution_count": 59,
   "metadata": {},
   "outputs": [],
   "source": [
    "# Usando a forma tradicional (Multiplica por 0.10 e soma 1000)\n",
    "class Gerente(Funcionario):\n",
    "\n",
    "    def __init__(self, nome, cpf, salario, senha, qtd_gerenciados):\n",
    "        super().__init__(nome, cpf, salario)\n",
    "        self._senha = senha\n",
    "        self.qtd_gerenciados = qtd_gerenciados\n",
    "\n",
    "    def get_bonificacao(self):\n",
    "        return self._salario * 0.10 + 1000.0\n",
    "\n",
    "    # métodos e properties"
   ]
  },
  {
   "cell_type": "code",
   "execution_count": 63,
   "metadata": {},
   "outputs": [
    {
     "data": {
      "text/plain": [
       "2000.0"
      ]
     },
     "execution_count": 63,
     "metadata": {},
     "output_type": "execute_result"
    }
   ],
   "source": [
    "gerente = Gerente('Pedro', '222222222-22', 10000.0, '1234', 0)\n",
    "gerente.get_bonificacao()"
   ]
  },
  {
   "cell_type": "code",
   "execution_count": 68,
   "metadata": {},
   "outputs": [],
   "source": [
    "# Reescreve o método da classe Funcionário apenas somando 1000\n",
    "class Gerente(Funcionario):\n",
    "\n",
    "    def __init__(self, nome, cpf, salario, senha, qtd_gerenciados):\n",
    "        super().__init__(nome, cpf, salario)\n",
    "        self._senha = senha\n",
    "        self.qtd_gerenciados = qtd_gerenciados\n",
    "\n",
    "    def get_bonificacao(self):\n",
    "        return super().get_bonificacao() + 1000\n",
    "\n",
    "    # métodos e properties"
   ]
  },
  {
   "cell_type": "code",
   "execution_count": 69,
   "metadata": {},
   "outputs": [
    {
     "data": {
      "text/plain": [
       "2000.0"
      ]
     },
     "execution_count": 69,
     "metadata": {},
     "output_type": "execute_result"
    }
   ],
   "source": [
    "# Mesmo resultado\n",
    "gerente = Gerente('Estevão', '33333333-22', 10000.0, '1235', 10)\n",
    "gerente.get_bonificacao()"
   ]
  },
  {
   "cell_type": "code",
   "execution_count": 50,
   "metadata": {},
   "outputs": [
    {
     "name": "stdout",
     "output_type": "stream",
     "text": [
      "['__class__', '__delattr__', '__dict__', '__dir__', '__doc__', '__eq__', '__format__', '__ge__', '__getattribute__', '__gt__', '__hash__', '__init__', '__init_subclass__', '__le__', '__lt__', '__module__', '__ne__', '__new__', '__reduce__', '__reduce_ex__', '__repr__', '__setattr__', '__sizeof__', '__str__', '__subclasshook__', '__weakref__']\n"
     ]
    }
   ],
   "source": [
    "# Listando os métodos\n",
    "class MinhaClasse():\n",
    "    pass\n",
    "\n",
    "if __name__ == '__main__':\n",
    "    mc = MinhaClasse()\n",
    "    print(dir(mc))"
   ]
  },
  {
   "cell_type": "code",
   "execution_count": 214,
   "metadata": {},
   "outputs": [],
   "source": [
    "class MinhaClasse:\n",
    "\n",
    "    def __str__(self):\n",
    "        return '< Instância de {}; endereço:{}>'.format(self.__class__.__name__, id(self))"
   ]
  },
  {
   "cell_type": "code",
   "execution_count": 215,
   "metadata": {},
   "outputs": [
    {
     "name": "stdout",
     "output_type": "stream",
     "text": [
      "<__main__.MinhaClasse object at 0x7fbbbc513450>\n"
     ]
    }
   ],
   "source": [
    "print(mc)"
   ]
  },
  {
   "cell_type": "code",
   "execution_count": 217,
   "metadata": {},
   "outputs": [
    {
     "name": "stdout",
     "output_type": "stream",
     "text": [
      "<__main__.MinhaClasse object at 0x7fbbbc540710>\n"
     ]
    }
   ],
   "source": [
    "class MinhaClasse():\n",
    "    pass\n",
    "\n",
    "if __name__ == '__main__':\n",
    "    mc = MinhaClasse()\n",
    "    print(repr(mc))"
   ]
  },
  {
   "cell_type": "code",
   "execution_count": null,
   "metadata": {},
   "outputs": [],
   "source": [
    "# Fontes\n",
    "# https://www.caelum.com.br/apostila-python-orientacao-objetos/heranca-e-classes-abstratas/#repetindo-cdigo"
   ]
  },
  {
   "cell_type": "markdown",
   "metadata": {},
   "source": [
    "# Fim"
   ]
  }
 ],
 "metadata": {
  "kernelspec": {
   "display_name": "Python 3",
   "language": "python",
   "name": "python3"
  },
  "language_info": {
   "codemirror_mode": {
    "name": "ipython",
    "version": 3
   },
   "file_extension": ".py",
   "mimetype": "text/x-python",
   "name": "python",
   "nbconvert_exporter": "python",
   "pygments_lexer": "ipython3",
   "version": "3.7.6"
  }
 },
 "nbformat": 4,
 "nbformat_minor": 4
}
